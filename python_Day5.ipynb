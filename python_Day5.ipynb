{
  "nbformat": 4,
  "nbformat_minor": 0,
  "metadata": {
    "colab": {
      "private_outputs": true,
      "provenance": [],
      "authorship_tag": "ABX9TyPT/HvYGMMmqOblmX/GAxEP",
      "include_colab_link": true
    },
    "kernelspec": {
      "name": "python3",
      "display_name": "Python 3"
    },
    "language_info": {
      "name": "python"
    }
  },
  "cells": [
    {
      "cell_type": "markdown",
      "metadata": {
        "id": "view-in-github",
        "colab_type": "text"
      },
      "source": [
        "<a href=\"https://colab.research.google.com/github/syedaBasmaAfreen/python-DA-ML/blob/main/python_Day5.ipynb\" target=\"_parent\"><img src=\"https://colab.research.google.com/assets/colab-badge.svg\" alt=\"Open In Colab\"/></a>"
      ]
    },
    {
      "cell_type": "markdown",
      "source": [
        "#  ⌨ Day 5  "
      ],
      "metadata": {
        "id": "kTAlhCmxwzxh"
      }
    },
    {
      "cell_type": "markdown",
      "source": [
        "# `Frozen sets`"
      ],
      "metadata": {
        "id": "IAqPp9xXwv4F"
      }
    },
    {
      "cell_type": "code",
      "execution_count": null,
      "metadata": {
        "id": "HULmIenn5BbF"
      },
      "outputs": [],
      "source": [
        "my_list=[1,2,3,35,5]\n",
        "my_list=[w for w in my_list if w %2==0]\n",
        "my_list=[x for x in my_list if x !=3]\n",
        "print(my_list)\n",
        "print(my_list)"
      ]
    },
    {
      "cell_type": "code",
      "source": [
        "my_list=[1,2,3,34,5,6,7,8,9 ,10,1,13,14,15,16]\n",
        "my_list=[x for  x  in range(1,11)]\n",
        "print(my_list)"
      ],
      "metadata": {
        "id": "f8-ZIuIR6BZz"
      },
      "execution_count": null,
      "outputs": []
    },
    {
      "cell_type": "code",
      "source": [
        "list1=[1,2,3,34,5,6,7,8,9 ,10,1,13,14,15,16]\n",
        "list =0\n",
        "for x in list1:\n",
        " if x<list:\n",
        "  x=list\n",
        "\n",
        "\n"
      ],
      "metadata": {
        "id": "FRE3HlZf6jAY"
      },
      "execution_count": null,
      "outputs": []
    },
    {
      "cell_type": "code",
      "source": [
        "\n",
        "import datetime\n",
        "\n",
        "x= datetime.datetime.now()\n",
        "print(x)"
      ],
      "metadata": {
        "id": "gZyDC45W9_Ov"
      },
      "execution_count": null,
      "outputs": []
    },
    {
      "cell_type": "markdown",
      "source": [
        "# `Scopes`"
      ],
      "metadata": {
        "id": "JxVwzLl3_D4Y"
      }
    },
    {
      "cell_type": "code",
      "source": [
        "def fun(n):\n",
        " for i in range(0,n):\n",
        "  for j in range(0, i+1):\n",
        "   print(\"*\" ,end=\" \")\n",
        "  print(\"\\r\")\n",
        "\n",
        "fun(5)"
      ],
      "metadata": {
        "id": "VbQL5tcF_N5J"
      },
      "execution_count": null,
      "outputs": []
    },
    {
      "cell_type": "code",
      "source": [
        "def fun(n):\n",
        " for i in range(0,n):\n",
        "  for j in range(i,n):\n",
        "   print(\"*\" ,end=\" \")\n",
        "  print(\"\\r\")\n",
        "\n",
        "fun(5)"
      ],
      "metadata": {
        "id": "NHL-0OQGCvtx"
      },
      "execution_count": null,
      "outputs": []
    },
    {
      "cell_type": "code",
      "source": [
        "#def fun(n):\n",
        "for i in range(-4,0):\n",
        "  for j in range(-4,i):\n",
        "   print(\"*\" ,end=\" \")\n",
        "  print(\"\\r\")\n",
        "\n",
        "fun(5)"
      ],
      "metadata": {
        "id": "D95di1LBFViG"
      },
      "execution_count": null,
      "outputs": []
    },
    {
      "cell_type": "code",
      "source": [
        "for i in range(-4,0):\n",
        "  for j in range(-4,i):\n",
        "   print(\"*\" ,end=\" \")\n",
        "  print(\"\\r\")\n"
      ],
      "metadata": {
        "id": "hL0ZLMsQI1qC"
      },
      "execution_count": null,
      "outputs": []
    },
    {
      "cell_type": "code",
      "source": [
        "for i in range(1):\n",
        "  for j in range(22):\n",
        "    for j in range(33):\n",
        "\n",
        "          print(\"*\" ,end=\" \")\n",
        "  print(\"\\r\")\n"
      ],
      "metadata": {
        "id": "vQ7huTn3JofG"
      },
      "execution_count": null,
      "outputs": []
    }
  ]
}