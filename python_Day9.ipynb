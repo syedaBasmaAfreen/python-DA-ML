{
  "nbformat": 4,
  "nbformat_minor": 0,
  "metadata": {
    "colab": {
      "private_outputs": true,
      "provenance": [],
      "authorship_tag": "ABX9TyPetxlgW7lk9WddXDqWfwwI",
      "include_colab_link": true
    },
    "kernelspec": {
      "name": "python3",
      "display_name": "Python 3"
    },
    "language_info": {
      "name": "python"
    }
  },
  "cells": [
    {
      "cell_type": "markdown",
      "metadata": {
        "id": "view-in-github",
        "colab_type": "text"
      },
      "source": [
        "<a href=\"https://colab.research.google.com/github/syedaBasmaAfreen/python-DA-ML/blob/main/python_Day9.ipynb\" target=\"_parent\"><img src=\"https://colab.research.google.com/assets/colab-badge.svg\" alt=\"Open In Colab\"/></a>"
      ]
    },
    {
      "cell_type": "markdown",
      "source": [
        "# ⌨ Day 9"
      ],
      "metadata": {
        "id": "elFFOOuImRoh"
      }
    },
    {
      "cell_type": "markdown",
      "source": [
        "# **`Matplotlib`**\n",
        "Matplotlib is a low level graph plotting library in python\n",
        "By default, the plot() function draws a line from point to point."
      ],
      "metadata": {
        "id": "aa2fBQKNnF8u"
      }
    },
    {
      "cell_type": "code",
      "execution_count": null,
      "metadata": {
        "id": "U3Lci-fYGC3X"
      },
      "outputs": [],
      "source": [
        "import matplotlib.pyplot as plt"
      ]
    },
    {
      "cell_type": "markdown",
      "source": [
        "# `Plotting`"
      ],
      "metadata": {
        "id": "15MN97xTj9Ih"
      }
    },
    {
      "cell_type": "code",
      "source": [
        "a=([0,1,2,4,0])\n",
        "b=([3,6,9,2,3]) #If we need to plot a line we have to pass two arrays to the plot function\n",
        "#same number of points in both axis.\n",
        "plt.xlabel('x axis')\n",
        "plt.ylabel('y axis')\n",
        "plt.plot(a,b)\n",
        "plt.show()"
      ],
      "metadata": {
        "id": "mwWwVsSTgu_i"
      },
      "execution_count": null,
      "outputs": []
    },
    {
      "cell_type": "code",
      "source": [
        "x=[1,2,3,4,5,6]\n",
        "y=[4,6,8,10,12,1]"
      ],
      "metadata": {
        "id": "Plzr5hmhmk6u"
      },
      "execution_count": null,
      "outputs": []
    },
    {
      "cell_type": "code",
      "source": [
        "plt.xlabel('Days')\n",
        "plt.ylabel('Stocks')\n",
        "plt.plot(x,y)\n",
        "plt.show()"
      ],
      "metadata": {
        "id": "L1VY7H9hGb4a"
      },
      "execution_count": null,
      "outputs": []
    },
    {
      "cell_type": "code",
      "source": [
        "x=[1,2,3,4,5,6]\n",
        "y=[4,6,8,10,12,1]\n",
        "\n",
        "plt.xlabel('Days')\n",
        "plt.ylabel('Stocks')\n",
        "plt.plot(x,y, marker= 'o',linestyle='-',color='black',linewidth=10)\n",
        "plt.title('Sensex')\n",
        "plt.show()"
      ],
      "metadata": {
        "id": "RICHKlISXGX9"
      },
      "execution_count": null,
      "outputs": []
    },
    {
      "cell_type": "code",
      "source": [
        "plt.xlabel('Days')\n",
        "plt.ylabel('Stocks')\n",
        "plt.plot(x,y, marker= '*' ,linestyle='-',color='purple',linewidth=0.5)\n",
        "plt.title('Sensex')\n",
        "plt.show()"
      ],
      "metadata": {
        "id": "1j7plQQKnVCJ"
      },
      "execution_count": null,
      "outputs": []
    },
    {
      "cell_type": "code",
      "source": [
        "plt.xlabel('Days')\n",
        "plt.ylabel('Stocks')\n",
        "plt.plot(x,y,marker= 'D',linestyle=':',color='green',linewidth=1)\n",
        "plt.title('Sensex')\n",
        "plt.grid(axis = 'x')#or y\n",
        "plt.show()"
      ],
      "metadata": {
        "id": "-Ab4Nn46YjH1"
      },
      "execution_count": null,
      "outputs": []
    },
    {
      "cell_type": "code",
      "source": [
        "plt.xlabel('Days')\n",
        "plt.ylabel('Stocks')\n",
        "plt.plot(x,y,marker= 's',linestyle='-',color='black',linewidth=1)\n",
        "plt.title('Sensex')\n",
        "plt.grid(axis = 'y',linestyle=':',color='pink',linewidth=3)\n",
        "plt.show()"
      ],
      "metadata": {
        "id": "rIFsBjMhdKrY"
      },
      "execution_count": null,
      "outputs": []
    },
    {
      "cell_type": "code",
      "source": [
        "plt.xlabel('Days')\n",
        "plt.ylabel('Stocks')\n",
        "plt.plot(x,y,marker= '*',linestyle='-',color='black',linewidth=1)\n",
        "plt.title(\"graph\")\n",
        "plt.plot('Sensex')\n",
        "plt.grid(axis = 'y',linestyle=':',color='pink',linewidth=5)\n",
        "plt.show()"
      ],
      "metadata": {
        "id": "efU6vhiiaYx4"
      },
      "execution_count": null,
      "outputs": []
    },
    {
      "cell_type": "markdown",
      "source": [
        "\n",
        "# `Multi plots`\n",
        "\n"
      ],
      "metadata": {
        "id": "1gZbRuga9lUN"
      }
    },
    {
      "cell_type": "code",
      "source": [
        "x=([1,7,4,5,9,3])\n",
        "y=([11,17,6,14,15,16,13,9])\n",
        "z=([1,2,3,5,6,7,10])\n",
        "\n",
        "plt.plot(x,label=\"X\")\n",
        "plt.plot(y,label=\"Y\")\n",
        "plt.plot(z,label=\"Z\")\n",
        "#plt.plot(x,y,z, marker= 'o',linestyle='-',color='violet',linewidth=3)\n",
        "plt.title('Sensex')\n",
        "plt.grid(axis='y')\n",
        "plt.show()"
      ],
      "metadata": {
        "id": "-PKnkU-H9jKf"
      },
      "execution_count": null,
      "outputs": []
    },
    {
      "cell_type": "code",
      "source": [
        "import numpy as np\n",
        "#plot1\n",
        "x=np.array([1,7,4,5,9,3,12])\n",
        "y=np.array([11,17,6,14,15,16,13])\n",
        "#plt .subplot(r,c,pos)\n",
        "plt.subplot(1,2,1)#the figure has 1 row, 2 columns, and this plot is the first plot.\n",
        "plt.plot(x,y,color='orange',)\n",
        "#plot 2\n",
        "y=np.array([11,17,6,14,15,16,13])\n",
        "z=np.array([1,2,3,5,6,7,10])\n",
        "plt.subplot(1,2,2)\n",
        "plt.plot(y,z)\n",
        "plt.show()"
      ],
      "metadata": {
        "id": "UgdnD8op9jGo"
      },
      "execution_count": null,
      "outputs": []
    },
    {
      "cell_type": "code",
      "source": [
        "x = np.array([0, 1, 2, 3])\n",
        "y = np.array([3, 8, 1, 10])\n",
        "\n",
        "plt.subplot(2, 2, 1)\n",
        "plt.plot(x,y,color='hotpink',)#2 rows 2 columns plot 1\n",
        "plt.title(\"listen\")\n",
        "x = np.array([0, 1, 2, 3])\n",
        "y = np.array([10, 20, 30, 40])\n",
        "\n",
        "plt.subplot(2, 2, 2)\n",
        "plt.plot(x,y)\n",
        "plt.title(\"pratice\")\n",
        "\n",
        "x = np.array([0,1,2,4,0])\n",
        "y = np.array([3,6,9,2,3])\n",
        "\n",
        "plt.subplot(2, 2, 3)\n",
        "plt.plot(x,y)\n",
        "plt.title(\"revice\")\n",
        "\n",
        "plt.suptitle(\"STUDENTS\")\n",
        "plt.show()"
      ],
      "metadata": {
        "id": "hTzfigr4BhN5"
      },
      "execution_count": null,
      "outputs": []
    },
    {
      "cell_type": "markdown",
      "source": [
        "#` Scatter Plots`"
      ],
      "metadata": {
        "id": "9M--udM5PwBp"
      }
    },
    {
      "cell_type": "code",
      "source": [
        "import numpy as np\n",
        "x=np.array([1,2,3,4,5,6,7,])\n",
        "y=x\n",
        "plt.scatter(x,y)\n",
        "plt.show"
      ],
      "metadata": {
        "id": "bSt3FPRYECBL"
      },
      "execution_count": null,
      "outputs": []
    },
    {
      "cell_type": "markdown",
      "source": [
        "**Compare Plots**"
      ],
      "metadata": {
        "id": "hNzO_kkrQg5f"
      }
    },
    {
      "cell_type": "code",
      "source": [
        "import numpy as np\n",
        "import matplotlib.pyplot as plt\n",
        "x=np.array([1,2,3,4,5,6,7,])\n",
        "y=x\n",
        "plt.scatter(x,y ,color=\"cyan\")\n",
        "\n",
        "x=[1,2,3,4,5,6]\n",
        "y=[4,5,8,9,10,13]\n",
        "plt.scatter(x,y ,color='blue')\n",
        "\n",
        "\n",
        "\n",
        "plt.show"
      ],
      "metadata": {
        "id": "MFKA6UaCE7ZN"
      },
      "execution_count": null,
      "outputs": []
    },
    {
      "cell_type": "markdown",
      "source": [
        "**Color Each Dot**"
      ],
      "metadata": {
        "id": "HB9drA6RRXYT"
      }
    },
    {
      "cell_type": "code",
      "source": [
        "import matplotlib.pyplot as plt\n",
        "import numpy as np\n",
        "\n",
        "x = np.array([5,7,8,7,2,17,2,9,4,11,12,9,6])\n",
        "y = np.array([99,86,87,88,111,86,103,87,94,78,77,85,86])\n",
        "colors = np.array([\"red\",\"green\",\"blue\",\"yellow\",\"pink\",\"black\",\"orange\",\"purple\",\"beige\",\"brown\",\"gray\",\"cyan\",\"magenta\"])\n",
        "\n",
        "plt.scatter(x, y, c=colors)\n",
        "\n",
        "plt.show()"
      ],
      "metadata": {
        "id": "Q5x1Gjb6RV6Y"
      },
      "execution_count": null,
      "outputs": []
    },
    {
      "cell_type": "code",
      "source": [
        "import numpy as np\n",
        "\n",
        "x=np.array([1,2,3,4,5,6,7])\n",
        "y=x\n",
        "colors=['pink']*(len(x)-1)\n",
        "colors.append('m')\n",
        "plt.scatter(x,y,marker c=colors,s=50)#the color or the c argument:\n",
        "plt.show()"
      ],
      "metadata": {
        "id": "QTtik7PcGMVg"
      },
      "execution_count": null,
      "outputs": []
    },
    {
      "cell_type": "markdown",
      "source": [
        "You can change the size of the dots with the s argument"
      ],
      "metadata": {
        "id": "g9kvdbuBTbcY"
      }
    },
    {
      "cell_type": "code",
      "source": [
        "import numpy as np\n",
        "\n",
        "x=np.array([1,2,3,4,5,6,7])\n",
        "y=x\n",
        "z=np.array([1,300,4,6,10,100,12])#size\n",
        "colors=['m']*(len(x)-1)\n",
        "colors.append('pink')\n",
        "plt.scatter(x,y, c=colors,s=z)\n",
        "\n",
        "plt.show()"
      ],
      "metadata": {
        "id": "wwFpeYmXJLeg"
      },
      "execution_count": null,
      "outputs": []
    },
    {
      "cell_type": "markdown",
      "source": [
        "*You can adjust the transparency of the dots with the alpha argument.*"
      ],
      "metadata": {
        "id": "RZ-t6zmFTvX-"
      }
    },
    {
      "cell_type": "code",
      "source": [
        "x=np.array([1,2,3,4,5,6,7])\n",
        "y=x\n",
        "z=np.array([10,300,40,60,100,1000,120])\n",
        "colors=['m']*(len(x)-1)\n",
        "colors.append('hotpink')\n",
        "plt.scatter(x,y, c=colors, s=z,alpha=0.55)#alpha (2) is outside 0-1 range\n",
        "plt.show()"
      ],
      "metadata": {
        "id": "tIQd5KWXJLZY"
      },
      "execution_count": null,
      "outputs": []
    },
    {
      "cell_type": "markdown",
      "source": [
        "***Combine Color Size and Alpha***"
      ],
      "metadata": {
        "id": "3zoEdLXAPG28"
      }
    },
    {
      "cell_type": "code",
      "source": [
        "import matplotlib.pyplot as plt\n",
        "import numpy as np\n",
        "\n",
        "x = np.array([5,7,8,7,2,17,2,9,4,11,12,9,6])\n",
        "y = np.array([99,86,87,88,111,86,103,87,94,78,77,85,86])\n",
        "sizes = np.array([20,50,100,200,500,1000,60,90,10,300,600,800,75])\n",
        "colors = np.array([\"red\",\"green\",\"blue\",\"yellow\",\"pink\",\"black\",\"orange\",\"purple\",\"beige\",\"brown\",\"gray\",\"cyan\",\"magenta\"])\n",
        "plt.scatter(x, y, c=colors,s=sizes,alpha=0.57)\n",
        "\n",
        "\n",
        "plt.show()"
      ],
      "metadata": {
        "id": "DsELt6ZWNCkz"
      },
      "execution_count": null,
      "outputs": []
    },
    {
      "cell_type": "markdown",
      "source": [],
      "metadata": {
        "id": "1JLjkdqXE7Ke"
      }
    },
    {
      "cell_type": "code",
      "source": [
        "import matplotlib.pyplot as plt\n",
        "import numpy as np\n",
        "\n",
        "x = np.array([\"A\", \"B\", \"C\", \"D\"])\n",
        "y = np.array([10,30,12,32])\n",
        "\n",
        "plt.bar(x,y, width=0.1)\n",
        "plt.show()"
      ],
      "metadata": {
        "id": "enQCs_Y4XwjV"
      },
      "execution_count": null,
      "outputs": []
    },
    {
      "cell_type": "markdown",
      "source": [
        "# `Horizontal Bars`"
      ],
      "metadata": {
        "id": "Ao1yn6XvbMIL"
      }
    },
    {
      "cell_type": "code",
      "source": [
        "x = np.array([\"A\", \"B\", \"C\", \"D\"])\n",
        "y = np.array([10,30,12,32])\n",
        "\n",
        "plt.barh(x,y)\n",
        "plt.show()"
      ],
      "metadata": {
        "id": "oFfGNU3GYJ9s"
      },
      "execution_count": null,
      "outputs": []
    },
    {
      "cell_type": "code",
      "source": [
        "x = np.array([\"A\", \"B\", \"C\", \"D\"])\n",
        "y = np.array([10,30,12,32])\n",
        "\n",
        "plt.barh(x,y,color=\"cyan\",height=0.2,)\n",
        "plt.show()"
      ],
      "metadata": {
        "id": "ScYPEzavYPZX"
      },
      "execution_count": null,
      "outputs": []
    },
    {
      "cell_type": "markdown",
      "source": [
        "#` Histogram`\n"
      ],
      "metadata": {
        "id": "oBWHkfKMcZFr"
      }
    },
    {
      "cell_type": "code",
      "source": [
        "import numpy as np\n",
        "x=np.random.normal(170,10,250)\n",
        "print(x)"
      ],
      "metadata": {
        "id": "A9kiw4mrZHvE"
      },
      "execution_count": null,
      "outputs": []
    },
    {
      "cell_type": "code",
      "source": [],
      "metadata": {
        "id": "gHwLrKMxzqOP"
      },
      "execution_count": null,
      "outputs": []
    },
    {
      "cell_type": "markdown",
      "source": [
        "**hist() function to create histograms**."
      ],
      "metadata": {
        "id": "L307DEYMdR9N"
      }
    },
    {
      "cell_type": "code",
      "source": [
        "import matplotlib.pyplot as plt\n",
        "import numpy as np\n",
        "\n",
        "x = np.random.normal(170, 10, 250)\n",
        "\n",
        "plt.hist(x,color=\"#4CAF50\")\n",
        "plt.show()"
      ],
      "metadata": {
        "id": "UV9b-c0tdhrs"
      },
      "execution_count": null,
      "outputs": []
    },
    {
      "cell_type": "markdown",
      "source": [
        "# `Pie Charts`\n",
        "1. pie() function to draw pie charts\n",
        "2. the value divided by the sum of all values: x/sum(x)"
      ],
      "metadata": {
        "id": "qxqXZeuqeTzv"
      }
    },
    {
      "cell_type": "code",
      "source": [
        "import matplotlib.pyplot as plt\n",
        "import numpy as np\n",
        "\n",
        "k= np.array([12,13,25,35,13,12])\n",
        "\n",
        "plt.pie(k)\n",
        "plt.show()"
      ],
      "metadata": {
        "id": "RezLy6r4eUVl"
      },
      "execution_count": null,
      "outputs": []
    },
    {
      "cell_type": "code",
      "source": [
        "import matplotlib.pyplot as plt\n",
        "import numpy as np\n",
        "\n",
        "k= np.array([12,13,25,35,13,12])\n",
        "k_labels=[\"a\",\"b\",\"c\",\"d\",\"e\",\"f\"]#Add labels to the pie chart with the label parameter.\n",
        "\n",
        "plt.pie(k,labels=k_labels)\n",
        "plt.show()"
      ],
      "metadata": {
        "id": "zSXdJojSfW1s"
      },
      "execution_count": null,
      "outputs": []
    },
    {
      "cell_type": "code",
      "source": [
        "import matplotlib.pyplot as plt\n",
        "import numpy as np\n",
        "\n",
        "k= np.array([12,13,25,35,13,12])\n",
        "k_labels=[\"a\",\"b\",\"c\",\"d\",\"e\",\"f\"]\n",
        "\n",
        "plt.pie(k,labels=k_labels)\n",
        "plt.legend()\n",
        "plt.show()"
      ],
      "metadata": {
        "id": "tndzbDH6f4rN"
      },
      "execution_count": null,
      "outputs": []
    },
    {
      "cell_type": "code",
      "source": [
        "import matplotlib.pyplot as plt\n",
        "import numpy as np\n",
        "\n",
        "k= np.array([12,13,25,35,13,12])\n",
        "k_labels=[\"a\",\"b\",\"c\",\"d\",\"e\",\"f\"]\n",
        "\n",
        "plt.pie(k,labels=k_labels)\n",
        "plt.legend(loc=10)#0-10\n",
        "plt.show()"
      ],
      "metadata": {
        "id": "_2pdfbfzgCki"
      },
      "execution_count": null,
      "outputs": []
    },
    {
      "cell_type": "code",
      "source": [
        "import matplotlib.pyplot as plt\n",
        "import numpy as np\n",
        "\n",
        "k= np.array([12,13,25,35,13,12])\n",
        "k_label=[\"a\",\"b\",\"c\",\"d\",\"e\",\"f\"]\n",
        "\n",
        "plt.pie(k,labels=k_label)\n",
        "plt.legend(loc=0,frameon=False)\n",
        "plt.show()"
      ],
      "metadata": {
        "id": "gVRTmJVeg0E1"
      },
      "execution_count": null,
      "outputs": []
    },
    {
      "cell_type": "markdown",
      "source": [
        "As mentioned the default start angle is at the x-axis, but you can change the start angle by specifying a startangle parameter.\n",
        "\n"
      ],
      "metadata": {
        "id": "AFwHip8ZiA1P"
      }
    },
    {
      "cell_type": "code",
      "source": [
        "import matplotlib.pyplot as plt\n",
        "import numpy as np\n",
        "\n",
        "y = np.array([35, 25, 25, 15])\n",
        "mylabels = [\"Apples\", \"Bananas\", \"Cherries\", \"Dates\"]\n",
        "\n",
        "plt.pie(y, labels = mylabels, startangle = 90)\n",
        "plt.show()"
      ],
      "metadata": {
        "id": "jQdRlQAqh_Tg"
      },
      "execution_count": null,
      "outputs": []
    }
  ]
}