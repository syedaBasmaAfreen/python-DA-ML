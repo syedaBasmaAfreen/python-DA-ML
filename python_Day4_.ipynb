{
  "cells": [
    {
      "cell_type": "markdown",
      "metadata": {
        "id": "view-in-github",
        "colab_type": "text"
      },
      "source": [
        "<a href=\"https://colab.research.google.com/github/syedaBasmaAfreen/python-DA-ML/blob/main/python_Day4_.ipynb\" target=\"_parent\"><img src=\"https://colab.research.google.com/assets/colab-badge.svg\" alt=\"Open In Colab\"/></a>"
      ]
    },
    {
      "cell_type": "markdown",
      "metadata": {
        "id": "TOuHACYPh6Zf"
      },
      "source": [
        "# ⌨ Day 4"
      ]
    },
    {
      "cell_type": "markdown",
      "metadata": {
        "id": "HKZCjvt0ikUS"
      },
      "source": [
        "# `Function`\n",
        "\n",
        "1. In Python a function is defined using the \"def\" keyword\n",
        "2. Use function name followed by (), to CALL a fun"
      ]
    },
    {
      "cell_type": "code",
      "execution_count": 1,
      "metadata": {
        "id": "bfSZeYeAimB-"
      },
      "outputs": [],
      "source": [
        "def my_funtion():\n",
        "  print(\"hey there\")\n",
        "  my_funtion()"
      ]
    },
    {
      "cell_type": "markdown",
      "metadata": {
        "id": "n7bpzR_kt5OH"
      },
      "source": [
        "1.  if your function **take** 2 arguments, you have to **call** the function with **2** arguments, not more, and not less.\n",
        "2.  If you try to call the function with 1 or 3 arguments, you will get an error\n",
        "\n"
      ]
    },
    {
      "cell_type": "code",
      "execution_count": 2,
      "metadata": {
        "id": "BSqiGK4hn36-",
        "colab": {
          "base_uri": "https://localhost:8080/"
        },
        "outputId": "00fe624f-ed88-45ab-aea2-c0bddaedfbf2"
      },
      "outputs": [
        {
          "output_type": "stream",
          "name": "stdout",
          "text": [
            "k \n",
            "y \n"
          ]
        }
      ],
      "source": [
        "def my_funtion(hi):\n",
        "  print( hi + \" \")\n",
        "\n",
        "my_funtion(\"k\")\n",
        "my_funtion(\"y\")"
      ]
    },
    {
      "cell_type": "code",
      "execution_count": 3,
      "metadata": {
        "id": "8xhlhlYkwjts",
        "colab": {
          "base_uri": "https://localhost:8080/"
        },
        "outputId": "4647d1a4-ce55-4281-902d-96f36f239d06"
      },
      "outputs": [
        {
          "output_type": "stream",
          "name": "stdout",
          "text": [
            "syeda 1 2SYEDA\n"
          ]
        }
      ],
      "source": [
        "#1.\n",
        "def my_function(basma,afreen):\n",
        "  print( basma +\" 1 \" \"2\"  + afreen)\n",
        "\n",
        "my_function(\"syeda\" ,\"SYEDA\")"
      ]
    },
    {
      "cell_type": "code",
      "execution_count": null,
      "metadata": {
        "id": "oWq0E0LavF7x"
      },
      "outputs": [],
      "source": [
        " #2.\n",
        "def my_function(basma,afreen):\n",
        "  print( basma +\"  \" +afreen)\n",
        "\n",
        "my_function(\"syeda\")\n"
      ]
    },
    {
      "cell_type": "code",
      "execution_count": null,
      "metadata": {
        "id": "wLsCsZr8pmxX"
      },
      "outputs": [],
      "source": [
        "def my_function(fname, lname, email):\n",
        "       print(fname +\"chill \"+lname +\" \"+str(email)) # lname is on  2\n",
        "\n",
        "my_function(\"basma\",\"afreen\",\"syeda@\")\n",
        "my_function( fname=\"basma\" ,email=4765 ,lname=\"afreen\")# lname is on 3\n"
      ]
    },
    {
      "cell_type": "code",
      "execution_count": null,
      "metadata": {
        "id": "Ey9B_MUYnVGz"
      },
      "outputs": [],
      "source": [
        "def my_funtion(arg):\n",
        "  print(arg + \"hmmm \")\n",
        "\n",
        "my_funtion(\"hi there\")\n",
        "#my_funtion(3)#int & str cant concatnate"
      ]
    },
    {
      "cell_type": "markdown",
      "metadata": {
        "id": "Jhm9XiEn4-eQ"
      },
      "source": [
        "*  if you do not know how many arguments that will be passed into your function, add a * before the parameter name in the function definition."
      ]
    },
    {
      "cell_type": "code",
      "execution_count": null,
      "metadata": {
        "id": "OZKkD7uOlsCh"
      },
      "outputs": [],
      "source": [
        "def my_funtion(*height):\n",
        "  print (\"the last height enterd i\" +str(height[6]))\n",
        "# If you do not know how many arguments that will be passed into your function,\n",
        "#add a * before the parameter name in the function definition.\n",
        "my_funtion(12,33,44,55,66,77,88,99)"
      ]
    },
    {
      "cell_type": "code",
      "execution_count": null,
      "metadata": {
        "id": "dp5vlcZ4siEG"
      },
      "outputs": [],
      "source": [
        "def my_fun(name=\"syeda\"):  #Default\n",
        "  print(\"basma\" + name)\n",
        "my_fun(\"afreen\")\n",
        "my_fun()# when we dont pass any arg"
      ]
    },
    {
      "cell_type": "code",
      "execution_count": null,
      "metadata": {
        "id": "0_v6KaINtrQq"
      },
      "outputs": [],
      "source": [
        "def my_fun(a):\n",
        " for x in a:\n",
        "  print(x)\n",
        "  print(a)#USING LIST IN A FUN\n",
        "\n",
        "my_list=[1,2,3,4,5,6]\n",
        "my_fun(my_list )"
      ]
    },
    {
      "cell_type": "code",
      "execution_count": null,
      "metadata": {
        "id": "LNKHwMk32Vwr"
      },
      "outputs": [],
      "source": [
        "def func(a,b):\n",
        "  print(a+b)\n",
        "  func(4,6)\n",
        "  func(\"hello\",\"world\")\n",
        "  func([1,2,3],[4,5,6])\n"
      ]
    },
    {
      "cell_type": "code",
      "execution_count": null,
      "metadata": {
        "id": "dX7SqVsdvOhY"
      },
      "outputs": [],
      "source": [
        "def my_fun(b): #printing a square\n",
        "     print(b*b)\n",
        "     return b**2\n",
        "     print(my_fun(2))\n",
        "     print(my_fun(4))\n"
      ]
    },
    {
      "cell_type": "code",
      "execution_count": null,
      "metadata": {
        "id": "axm5x_cYyy3i"
      },
      "outputs": [],
      "source": [
        "def mult(n):\n",
        "  for i in range(1,11):\n",
        "    print(n,\"x\",i,\"=\",n*i)#instead of type casting we are using ,\n",
        "    print(int(n) + int(\"x\")+ int(i)+\"=\"+n*i)\n",
        "\n",
        "mult(9)"
      ]
    },
    {
      "cell_type": "markdown",
      "metadata": {
        "id": "z9QfBULB1GYT"
      },
      "source": [
        "`Lambda Function`\n",
        "\n",
        "    lambda arguments : expression\n"
      ]
    },
    {
      "cell_type": "code",
      "execution_count": null,
      "metadata": {
        "id": "KUmWXXYx3NrW"
      },
      "outputs": [],
      "source": [
        "x= lambda a: a+6\n",
        "print(x(2))"
      ]
    },
    {
      "cell_type": "code",
      "execution_count": null,
      "metadata": {
        "id": "q7ZPLWoI1FQ6"
      },
      "outputs": [],
      "source": [
        "x= lambda a,b : a+b\n",
        "print(x(2,3))"
      ]
    },
    {
      "cell_type": "code",
      "execution_count": null,
      "metadata": {
        "id": "cHtC0QAe3AUC"
      },
      "outputs": [],
      "source": [
        "x =lambda a,b :a*b\n",
        "print(x(2,3))\n"
      ]
    },
    {
      "cell_type": "code",
      "execution_count": null,
      "metadata": {
        "id": "SKVOD1Qh3Zlu"
      },
      "outputs": [],
      "source": [
        "def fun(n):\n",
        "  return lambda a : a-a\n",
        "mult= fun(3)\n",
        "print(mult(100))\n"
      ]
    },
    {
      "cell_type": "code",
      "execution_count": null,
      "metadata": {
        "id": "yaYekpsT7pta"
      },
      "outputs": [],
      "source": [
        "def fun(n):\n",
        "  return lambda a : a-n\n",
        "mult= fun(3)\n",
        "print(mult(100))\n"
      ]
    },
    {
      "cell_type": "code",
      "execution_count": null,
      "metadata": {
        "id": "uEOw6IL74t0R"
      },
      "outputs": [],
      "source": [
        "def fun(n):\n",
        "  return lambda a : a*n\n",
        "k= fun(3) # n=3\n",
        "print(k(100)) #a = 100\n"
      ]
    },
    {
      "cell_type": "code",
      "execution_count": null,
      "metadata": {
        "id": "GVqs-hr37Cn0"
      },
      "outputs": [],
      "source": [
        "def sqr(n):\n",
        "  return lambda a:a**a\n",
        "k= sqr(3)\n",
        "print(k(2))"
      ]
    },
    {
      "cell_type": "code",
      "execution_count": null,
      "metadata": {
        "id": "Tyxfs9Vt4XM2"
      },
      "outputs": [],
      "source": [
        "def sqr():\n",
        "  return lambda a:a**a\n",
        "k= sqr()\n",
        "print(k(3))\n",
        "\n"
      ]
    },
    {
      "cell_type": "markdown",
      "metadata": {
        "id": "HEJXAeqSUqPu"
      },
      "source": [
        "## `REGEX`\n",
        "1. A RegEx, or Regular Expression, is a sequence of characters that forms a search pattern.\n",
        "2. Python has a built-in package called **\"re\" **    \n",
        "    Import the re module"
      ]
    },
    {
      "cell_type": "code",
      "execution_count": null,
      "metadata": {
        "id": "y2181WT_8C_D"
      },
      "outputs": [],
      "source": [
        "import re\n",
        "\n",
        "#Check if the string starts with \"The\" and ends with \"Spain\":\n",
        "\n",
        "f= \"always be kind human beings\"\n",
        "x= re.search(\"^be.*beings\", f)\n",
        "y=re.findall(\"always.*beings\", f)\n",
        "z= re.search(\"be\" , f)\n",
        "print(x)\n",
        "print(y)\n",
        "print(z)\n",
        "\n",
        "if x:\n",
        "  print(\"YES! We have a match!\")\n",
        "else:\n",
        "  print(\"No match\")\n",
        "if y:\n",
        "  print(\"YES! We have a match!\")\n",
        "else:\n",
        "  print(\"No match\")\n",
        "\n"
      ]
    },
    {
      "cell_type": "markdown",
      "metadata": {
        "id": "tXKxzUVCWjgF"
      },
      "source": [
        "# `MetaCharacters`"
      ]
    },
    {
      "cell_type": "markdown",
      "metadata": {
        "id": "ACOfBjjSdKdA"
      },
      "source": [
        "1.    [  ]      **Returns a set of characters**"
      ]
    },
    {
      "cell_type": "code",
      "execution_count": null,
      "metadata": {
        "id": "bOzMcYPnYOS6"
      },
      "outputs": [],
      "source": [
        "\n",
        "meta1=\"“There is No suBstitute for Hard woRk.\"\n",
        "w1=re.findall(\"[s]\", meta1)\n",
        "print(w1)\n",
        "\n",
        "w11=re.findall(\"[s ]\", meta1)\n",
        "print(w11)\n",
        "\n",
        "w2=re.findall(\"[a-f]\", meta1)\n",
        "print(w2)\n",
        "\n",
        "w3=re.findall(\"[sub]\", meta1)\n",
        "print(w3)\n",
        "\n",
        "w4=re.findall(\"suB\", meta1)\n",
        "print(w4)\n",
        "\n",
        "\n",
        "w5=re.findall(\"[a-fA-T]\", meta1)\n",
        "print(w5)\n",
        "\n"
      ]
    },
    {
      "cell_type": "markdown",
      "metadata": {
        "id": "V72rnqksd9qh"
      },
      "source": [
        "2. \\\t**Signals a special sequence** (can also be used to escape special characters)"
      ]
    },
    {
      "cell_type": "code",
      "execution_count": null,
      "metadata": {
        "id": "l2ivl_nAeJqe"
      },
      "outputs": [],
      "source": [
        "meta2=\"Everything has beauty,6  but not everyone sees it 94 \"\n",
        "\n",
        "#Find all digit characters:\n",
        "\n",
        "w11= re.findall(\"\\d\", meta2)\n",
        "print(w11)\n",
        "\n",
        "w22= re.findall(\"\\d \", meta2)\n",
        "print(w22)\n",
        "\n",
        "\n",
        "w33= re.findall (\" \\d\", meta2)\n",
        "print(w33)\n",
        "\n",
        "\n",
        "w44= re.findall(\" \\d \", meta2)\n",
        "print(w44)\n",
        "\n",
        "\n",
        "\n",
        "\n",
        "\n",
        "\n"
      ]
    },
    {
      "cell_type": "markdown",
      "metadata": {
        "id": "uGmdbUz8g5mk"
      },
      "source": [
        "3. .    **Any character (except newline character)**"
      ]
    },
    {
      "cell_type": "code",
      "execution_count": null,
      "metadata": {
        "id": "SgUeXEyLhKCr"
      },
      "outputs": [],
      "source": [
        "meta = \"hello planet\"\n",
        "\n",
        "#Search for a sequence that starts with \"he\", followed by two (any) characters, and an \"o\":\n",
        "\n",
        "w1= re.findall(\"he..o\", meta)\n",
        "print(w1)\n",
        "\n",
        "w2= re.findall(\"he.o\", meta)\n",
        "print(w2)\n",
        "\n",
        "w3= re.findall(\"p.....\", meta)\n",
        "print(w3)\n",
        "\n",
        "w4= re.findall(\".....t\", meta)\n",
        "print(w4)\n",
        "\n",
        "w5= re.findall(\"...n..\", meta)\n",
        "print(w5)\n",
        "\n",
        "w6= re.findall(\".\", meta)\n",
        "print(w6)\n",
        "\n",
        "w7= re.findall(\"...\", meta)\n",
        "print(w7)"
      ]
    },
    {
      "cell_type": "code",
      "execution_count": 22,
      "metadata": {
        "colab": {
          "base_uri": "https://localhost:8080/"
        },
        "id": "q6DfzWgUsi8f",
        "outputId": "beaea4a1-4c28-4082-91ab-02ef9956294a"
      },
      "outputs": [
        {
          "output_type": "stream",
          "name": "stdout",
          "text": [
            "enter the passwordgftyff\n",
            "password is  too weak\n"
          ]
        }
      ],
      "source": [
        "import re\n",
        "\n",
        "p =input(\"enter the password\")\n",
        "p1=re.findall(\"[^a-zA-Z]\",p)\n",
        "p11=re.findall(\"\\A\" ,p)\n",
        "p2=re.findall(\"\\s\" ,p)\n",
        "p3=re.findall(\"\\d\" ,p)\n",
        " #   p4=re.findall(\"\\b\")\n",
        "p4=re.findall(\"\\w\" ,p)\n",
        "if p1:\n",
        " if p11:\n",
        "  if p2:\n",
        "   if p3:\n",
        "    if p4:\n",
        "        print(\"password is strong\")\n",
        "    else:\n",
        "      print(\"password is weak\")\n",
        "   else:\n",
        "     print(\"password is  too weak\")\n",
        "  else:\n",
        "   print(\"password is  too weak\")\n",
        "else:\n",
        "   print(\"password is  too weak\")\n",
        "\n",
        "\n",
        "\n",
        "\n"
      ]
    }
  ],
  "metadata": {
    "colab": {
      "provenance": [],
      "authorship_tag": "ABX9TyM7Hr8Qkq29H6T1AVu8SYat",
      "include_colab_link": true
    },
    "kernelspec": {
      "display_name": "Python 3",
      "name": "python3"
    },
    "language_info": {
      "name": "python"
    }
  },
  "nbformat": 4,
  "nbformat_minor": 0
}