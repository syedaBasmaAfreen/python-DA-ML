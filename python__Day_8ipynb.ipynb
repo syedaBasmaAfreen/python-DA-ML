{
  "nbformat": 4,
  "nbformat_minor": 0,
  "metadata": {
    "colab": {
      "private_outputs": true,
      "provenance": [],
      "authorship_tag": "ABX9TyN5BQpeATdDGSbtisZOZvtB",
      "include_colab_link": true
    },
    "kernelspec": {
      "name": "python3",
      "display_name": "Python 3"
    },
    "language_info": {
      "name": "python"
    }
  },
  "cells": [
    {
      "cell_type": "markdown",
      "metadata": {
        "id": "view-in-github",
        "colab_type": "text"
      },
      "source": [
        "<a href=\"https://colab.research.google.com/github/syedaBasmaAfreen/python-DA-ML/blob/main/python__Day_8ipynb.ipynb\" target=\"_parent\"><img src=\"https://colab.research.google.com/assets/colab-badge.svg\" alt=\"Open In Colab\"/></a>"
      ]
    },
    {
      "cell_type": "markdown",
      "source": [
        "Day 10"
      ],
      "metadata": {
        "id": "foFN310rSbBT"
      }
    },
    {
      "cell_type": "code",
      "execution_count": null,
      "metadata": {
        "id": "6gfjVBa2SaIg"
      },
      "outputs": [],
      "source": [
        "\n",
        "import pandas as pd\n",
        "data = {'Capitals':['PUNAJI', 'CHANDIGARH','PATNA','AGARTALA'],\n",
        "            'Population':['1,345,668', '21,144,564', '82,998,507', '3,199,203'],\n",
        "            'States':['GOA','HARYANA','BIHAR','TRIPURA'],\n",
        "            'Visitors':[300,4000,500,80000],\n",
        "            'Area':[\"3,702\",\"44,212\",\"94,163\",\"10,468\"]}\n",
        "\n",
        "ds=pd.DataFrame(data)\n",
        "ds\n"
      ]
    },
    {
      "cell_type": "code",
      "source": [
        "ds.set_index('Area')"
      ],
      "metadata": {
        "id": "_dGEBV9TpTtz"
      },
      "execution_count": null,
      "outputs": []
    },
    {
      "cell_type": "code",
      "source": [
        "ds=ds.reset_index()\n",
        "ds"
      ],
      "metadata": {
        "id": "y3fqk_7OplKI"
      },
      "execution_count": null,
      "outputs": []
    },
    {
      "cell_type": "code",
      "source": [
        "ds.columns"
      ],
      "metadata": {
        "id": "riQ_T_8BplGf"
      },
      "execution_count": null,
      "outputs": []
    },
    {
      "cell_type": "code",
      "source": [
        "ds.drop(['index'], axis=1)\n"
      ],
      "metadata": {
        "id": "Jc5jDjgWplCs"
      },
      "execution_count": null,
      "outputs": []
    },
    {
      "cell_type": "code",
      "source": [
        "df.T# transpose rows into col & col into rows"
      ],
      "metadata": {
        "id": "w--BiI1LqidO"
      },
      "execution_count": null,
      "outputs": []
    },
    {
      "cell_type": "code",
      "source": [
        "df"
      ],
      "metadata": {
        "id": "ooshEswGsAtL"
      },
      "execution_count": null,
      "outputs": []
    },
    {
      "cell_type": "code",
      "source": [
        "df['Visitors'].sum()"
      ],
      "metadata": {
        "id": "IuHKx5sdssfU"
      },
      "execution_count": null,
      "outputs": []
    },
    {
      "cell_type": "code",
      "source": [
        "#A value is trying to be set on a copy of a slice from a DataFrame\n",
        "\n",
        "df['Visitors'][2]=5000\n",
        "df"
      ],
      "metadata": {
        "id": "MXOu_c4ys7F6"
      },
      "execution_count": null,
      "outputs": []
    },
    {
      "cell_type": "markdown",
      "source": [
        "Handling Missing values"
      ],
      "metadata": {
        "id": "UzI_h7YitRP-"
      }
    },
    {
      "cell_type": "code",
      "source": [
        "import numpy as np\n"
      ],
      "metadata": {
        "id": "asQW3n-xtYav"
      },
      "execution_count": null,
      "outputs": []
    },
    {
      "cell_type": "code",
      "source": [
        "np.nan"
      ],
      "metadata": {
        "id": "YT_-dvEdtbbV"
      },
      "execution_count": null,
      "outputs": []
    },
    {
      "cell_type": "code",
      "source": [
        "cars=pd.Series([\"tesla\",\"tata\",np.NaN,np.NaN,np.NaN,np.NaN,np.NaN,\"maruthi\",\"audi\"])\n",
        "cars"
      ],
      "metadata": {
        "id": "wQgNocyGtfrt"
      },
      "execution_count": null,
      "outputs": []
    },
    {
      "cell_type": "code",
      "source": [
        "cars.isna()#\tFinds not-a-number values"
      ],
      "metadata": {
        "id": "7mqzu6QS1hRE"
      },
      "execution_count": null,
      "outputs": []
    },
    {
      "cell_type": "code",
      "source": [
        "cars[cars.duplicated()]"
      ],
      "metadata": {
        "id": "sHYqZAjk1x_j"
      },
      "execution_count": null,
      "outputs": []
    },
    {
      "cell_type": "code",
      "source": [
        "cars.replace(np.NaN,100,inplace=True)\n",
        "cars"
      ],
      "metadata": {
        "id": "ORHzxsmS2vM_"
      },
      "execution_count": null,
      "outputs": []
    },
    {
      "cell_type": "code",
      "source": [
        "cars.interpolate(inpace =True)"
      ],
      "metadata": {
        "id": "nqEqBb1j3CWW"
      },
      "execution_count": null,
      "outputs": []
    },
    {
      "cell_type": "code",
      "source": [
        "cars.fillna(2023)\t#Replaces NULL values with the specified value\n"
      ],
      "metadata": {
        "id": "L_NeFaS3vsIm"
      },
      "execution_count": null,
      "outputs": []
    },
    {
      "cell_type": "code",
      "source": [
        "cars.dropna(inplace=True)#\tDrops all rows that contains NULL values"
      ],
      "metadata": {
        "id": "6pOyr1sMuePj"
      },
      "execution_count": null,
      "outputs": []
    },
    {
      "cell_type": "code",
      "source": [
        "cars.fillna(0)\t#Replaces NULL values with the specified value"
      ],
      "metadata": {
        "id": "kObUFbmvun_g"
      },
      "execution_count": null,
      "outputs": []
    },
    {
      "cell_type": "code",
      "source": [
        "cars.isna()#\tFinds not-a-number values"
      ],
      "metadata": {
        "id": "5iBygoR5uOMv"
      },
      "execution_count": null,
      "outputs": []
    },
    {
      "cell_type": "code",
      "source": [
        "cars[cars.duplicated()]"
      ],
      "metadata": {
        "id": "_BuqugMS1n8n"
      },
      "execution_count": null,
      "outputs": []
    },
    {
      "cell_type": "code",
      "source": [
        "cars.unique()"
      ],
      "metadata": {
        "id": "E6-SJKnO2HJ2"
      },
      "execution_count": null,
      "outputs": []
    },
    {
      "cell_type": "code",
      "source": [],
      "metadata": {
        "id": "tv6TVg792yA6"
      },
      "execution_count": null,
      "outputs": []
    }
  ]
}