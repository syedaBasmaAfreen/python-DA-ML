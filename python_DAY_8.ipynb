{
  "nbformat": 4,
  "nbformat_minor": 0,
  "metadata": {
    "colab": {
      "private_outputs": true,
      "provenance": [],
      "authorship_tag": "ABX9TyONvfYJ8xmPPPl1rD59HJSo",
      "include_colab_link": true
    },
    "kernelspec": {
      "name": "python3",
      "display_name": "Python 3"
    },
    "language_info": {
      "name": "python"
    }
  },
  "cells": [
    {
      "cell_type": "markdown",
      "metadata": {
        "id": "view-in-github",
        "colab_type": "text"
      },
      "source": [
        "<a href=\"https://colab.research.google.com/github/syedaBasmaAfreen/python-DA-ML/blob/main/python_DAY_8.ipynb\" target=\"_parent\"><img src=\"https://colab.research.google.com/assets/colab-badge.svg\" alt=\"Open In Colab\"/></a>"
      ]
    },
    {
      "cell_type": "markdown",
      "source": [
        "# ⌨ Day 8"
      ],
      "metadata": {
        "id": "aDmeN47m4oOb"
      }
    },
    {
      "cell_type": "markdown",
      "source": [
        "# `Assingnment`"
      ],
      "metadata": {
        "id": "bcByHVj8y3BT"
      }
    },
    {
      "cell_type": "markdown",
      "source": [
        "Write a Pandas program to create and display a DataFrame from a specified dictionary data which has the index labels.\n",
        "\n"
      ],
      "metadata": {
        "id": "jFEmTKDxM371"
      }
    },
    {
      "cell_type": "code",
      "source": [
        "import pandas as pd\n",
        "import numpy as np"
      ],
      "metadata": {
        "id": "z_e-Pd4eNo5R"
      },
      "execution_count": null,
      "outputs": []
    },
    {
      "cell_type": "code",
      "execution_count": null,
      "metadata": {
        "id": "I9M6msPUMf3S"
      },
      "outputs": [],
      "source": [
        "exam_data = {'name':['Anastasia', 'Dima','Katherine','James','Emily','Michel','Mathew','Laura','Kevin','Jonas'],\n",
        "            'score':[12.5, 9.0,16.5, np.nan, 9.0, 20.0, 14.5, np.nan, 8.0, 19.0],\n",
        "            'attempts':[1,3,2,3,2,3,1,1,2,1],\n",
        "            'qualify':['yes','no','yes','no','no','yes','yes','no','no','yes']}\n",
        "labels=['a','b','c','d','e','f','g','h','i','j']\n",
        "df=pd.DataFrame(exam_data,index=labels)\n",
        "print(df)\n",
        "\n"
      ]
    },
    {
      "cell_type": "markdown",
      "source": [],
      "metadata": {
        "id": "PmkSx0n2b-at"
      }
    },
    {
      "cell_type": "code",
      "source": [
        "\n",
        "print(df.describe())\n"
      ],
      "metadata": {
        "id": "SzoFvGYQb_A2"
      },
      "execution_count": null,
      "outputs": []
    },
    {
      "cell_type": "markdown",
      "source": [
        "Write a Pandas program to get the first 3 rows of a given DataFrame\n",
        "\n"
      ],
      "metadata": {
        "id": "0jlpHAcSM8Fc"
      }
    },
    {
      "cell_type": "code",
      "source": [
        "df[:3]"
      ],
      "metadata": {
        "id": "JHiOQhLlMngo"
      },
      "execution_count": null,
      "outputs": []
    },
    {
      "cell_type": "code",
      "source": [
        "df.head(3)"
      ],
      "metadata": {
        "id": "n8fyf9ijMncq"
      },
      "execution_count": null,
      "outputs": []
    },
    {
      "cell_type": "code",
      "source": [
        "df.iloc[:3]"
      ],
      "metadata": {
        "id": "_JNrdwJ2MnL9"
      },
      "execution_count": null,
      "outputs": []
    },
    {
      "cell_type": "code",
      "source": [
        "df.iloc[[0,1,2]]#using a list of index\n"
      ],
      "metadata": {
        "id": "aobZoy_xglf1"
      },
      "execution_count": null,
      "outputs": []
    },
    {
      "cell_type": "code",
      "source": [
        "df.loc[['a','b','c']]#another pair of brackets.to achive['label']"
      ],
      "metadata": {
        "id": "scclm-0VfLck"
      },
      "execution_count": null,
      "outputs": []
    },
    {
      "cell_type": "markdown",
      "source": [
        "Write a Pandas program to select the 'name' and 'score' columns from the following DataFrame\n"
      ],
      "metadata": {
        "id": "Y2-j17MzV1O8"
      }
    },
    {
      "cell_type": "code",
      "source": [
        "df[['name','score']]#calling them by col names"
      ],
      "metadata": {
        "id": "JocAf_g5WPK1"
      },
      "execution_count": null,
      "outputs": []
    },
    {
      "cell_type": "code",
      "source": [
        "df.loc[:,['name','score']]"
      ],
      "metadata": {
        "id": "wY4WgMB9ju38"
      },
      "execution_count": null,
      "outputs": []
    },
    {
      "cell_type": "code",
      "source": [
        "df.iloc[: ,0:2]#2 is excluive"
      ],
      "metadata": {
        "id": "HCOfLvgKXGr4"
      },
      "execution_count": null,
      "outputs": []
    },
    {
      "cell_type": "markdown",
      "source": [
        "Write a Pandas program to select the specified columns and rows from a given data frame.\n",
        "\n"
      ],
      "metadata": {
        "id": "cqLCAmvHYvkO"
      }
    },
    {
      "cell_type": "code",
      "source": [
        "df.iloc[[1]]# indx no"
      ],
      "metadata": {
        "id": "GT85LPgSYqbB"
      },
      "execution_count": null,
      "outputs": []
    },
    {
      "cell_type": "code",
      "source": [
        "df.loc[['a']]#labels"
      ],
      "metadata": {
        "id": "PwQC9Gfeinh3"
      },
      "execution_count": null,
      "outputs": []
    },
    {
      "cell_type": "code",
      "source": [
        "df.loc[[\"a\",\"b\"],[\"qualify\",\"score\"]] #selecting rows and col"
      ],
      "metadata": {
        "id": "vhdhATLmbQj5"
      },
      "execution_count": null,
      "outputs": []
    },
    {
      "cell_type": "code",
      "source": [
        "df.loc[: ,[\"qualify\",\"score\"]] #all rows specific col"
      ],
      "metadata": {
        "id": "sleszGlbdp_l"
      },
      "execution_count": null,
      "outputs": []
    },
    {
      "cell_type": "code",
      "source": [
        "df.iloc[1:3,2:4]"
      ],
      "metadata": {
        "id": "k-VaRnTh9qqV"
      },
      "execution_count": null,
      "outputs": []
    },
    {
      "cell_type": "code",
      "source": [
        "df.iloc[[0,1,2], [2,3]]#rows and col"
      ],
      "metadata": {
        "id": "1tjmFMNhewgE"
      },
      "execution_count": null,
      "outputs": []
    },
    {
      "cell_type": "code",
      "source": [
        "df.iloc[:  ,[2,3]]#all rows and specific col"
      ],
      "metadata": {
        "id": "YRFqx_Imh8De"
      },
      "execution_count": null,
      "outputs": []
    },
    {
      "cell_type": "markdown",
      "source": [
        "Write a Pandas program to select the rows where the number of attempts in the examination is greater than 2.\n"
      ],
      "metadata": {
        "id": "fJniZJudkTnc"
      }
    },
    {
      "cell_type": "code",
      "source": [
        "x=df.loc[(df.attempts>2)]\n",
        "x"
      ],
      "metadata": {
        "id": "XRXaAcACmG2e"
      },
      "execution_count": null,
      "outputs": []
    },
    {
      "cell_type": "code",
      "source": [
        "df[df['attempts']>2]\n"
      ],
      "metadata": {
        "id": "wj6tIOo5m23v"
      },
      "execution_count": null,
      "outputs": []
    },
    {
      "cell_type": "markdown",
      "source": [
        "ex"
      ],
      "metadata": {
        "id": "0GnkP8UJtrXc"
      }
    },
    {
      "cell_type": "code",
      "source": [
        "# label=[0,1,2,3,4,5,6,7,8,9]\n",
        "\n",
        "# df.index=label\n",
        "\n",
        "x = df['attempts']>2\n",
        "print(x)\n",
        "for i in df.index:\n",
        " if(x[i]):\n",
        "  print(df.loc[[i]])\n"
      ],
      "metadata": {
        "id": "V2PNUyXGoF_S"
      },
      "execution_count": null,
      "outputs": []
    },
    {
      "cell_type": "markdown",
      "source": [
        "Write a Pandas program to select the rows where the number of attempts in the examination is less than 2 and score greter than 15."
      ],
      "metadata": {
        "id": "JlLgb_j8mXgy"
      }
    },
    {
      "cell_type": "code",
      "source": [
        "x=df.loc[(df.attempts<2) & (df.score>15)]\n",
        "x"
      ],
      "metadata": {
        "id": "FRRhttrxh71T"
      },
      "execution_count": null,
      "outputs": []
    },
    {
      "cell_type": "markdown",
      "source": [
        "Write a Pandas program to count the number of rows and columns of a DataFrame\n"
      ],
      "metadata": {
        "id": "ERH2-JSkYqMs"
      }
    },
    {
      "cell_type": "code",
      "source": [
        "#df.count()#counts the number of not empty values for each row, or column"
      ],
      "metadata": {
        "id": "RiYBoOvguV6i"
      },
      "execution_count": null,
      "outputs": []
    },
    {
      "cell_type": "code",
      "source": [
        "row,col=df.shape\n",
        "print(row)\n",
        "print(col)\n",
        "\n"
      ],
      "metadata": {
        "id": "XDWVoheLvFJA"
      },
      "execution_count": null,
      "outputs": []
    },
    {
      "cell_type": "markdown",
      "source": [
        "Write a Pandas program to select the rows where the score is missing?\n"
      ],
      "metadata": {
        "id": "PJsI_IycxCur"
      }
    },
    {
      "cell_type": "code",
      "source": [
        "df[df['score'].isnull()]"
      ],
      "metadata": {
        "id": "_UgeaEy7xDOU"
      },
      "execution_count": null,
      "outputs": []
    },
    {
      "cell_type": "markdown",
      "source": [
        "Write a Pandas program to select the rows the score is between 15 and 20 (inclusive)."
      ],
      "metadata": {
        "id": "mO_VSdrQzUwB"
      }
    },
    {
      "cell_type": "code",
      "source": [
        "x=df.loc[(df.score>15) & (df.score<20)]\n",
        "x"
      ],
      "metadata": {
        "id": "xNblVxr_zcM3"
      },
      "execution_count": null,
      "outputs": []
    }
  ]
}