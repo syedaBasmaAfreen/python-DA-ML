{
  "nbformat": 4,
  "nbformat_minor": 0,
  "metadata": {
    "colab": {
      "private_outputs": true,
      "provenance": [],
      "authorship_tag": "ABX9TyPTHAw9U1YemB2O0P7aJYVS",
      "include_colab_link": true
    },
    "kernelspec": {
      "name": "python3",
      "display_name": "Python 3"
    },
    "language_info": {
      "name": "python"
    }
  },
  "cells": [
    {
      "cell_type": "markdown",
      "metadata": {
        "id": "view-in-github",
        "colab_type": "text"
      },
      "source": [
        "<a href=\"https://colab.research.google.com/github/syedaBasmaAfreen/python-DA-ML/blob/main/basma_Day2.ipynb\" target=\"_parent\"><img src=\"https://colab.research.google.com/assets/colab-badge.svg\" alt=\"Open In Colab\"/></a>"
      ]
    },
    {
      "cell_type": "markdown",
      "source": [
        "# ⌨  Day 2"
      ],
      "metadata": {
        "id": "tXyZ5fAkLH8R"
      }
    },
    {
      "cell_type": "markdown",
      "source": [
        "                                Built-In Data  Types\n",
        "\\\n",
        "\n",
        "Sequence DT:List , tuple, Range\n",
        "  "
      ],
      "metadata": {
        "id": "BLFfQG2-yOtz"
      }
    },
    {
      "cell_type": "markdown",
      "source": [
        "# ↪` LIST`\n",
        "1. lists are created using Square bracket follwed by listName\n",
        "2. lists items r ordered,chanageble,&allow duplicate value\n"
      ],
      "metadata": {
        "id": "3DxojssAFNfX"
      }
    },
    {
      "cell_type": "code",
      "source": [
        "my_list=[1,20.9,\"hello\",True,False]\n",
        "print(my_list)                                      #prints  all ele in the list"
      ],
      "metadata": {
        "id": "xdngf_Sm2e8k"
      },
      "execution_count": null,
      "outputs": []
    },
    {
      "cell_type": "code",
      "source": [
        "                #access any element from the list using index no.\n",
        "\n",
        "#    0   1    2      3     4    5\n",
        "bye=[ 1, 20.9,\"hello\",True,False,'A']\n",
        "#    -6   -5    -4     -3   -2   -1\n",
        "\n",
        "print(bye[2])\n",
        "print(bye[4])\n",
        "\n",
        "#-ve indexing means starts from the end\n",
        "\n",
        "print(bye[-1])                               #-1 refers to the last item in list\n",
        "print(bye[-3])\n",
        "                                 #print(abc[start:stop:step])\n",
        "#range of indexes\n",
        "                      #to print  a SUBSET is called slice or get random elements\n",
        "print(bye[1:4])\n",
        "print(bye[3:4])\n",
        "\n",
        "#NOTE :) the search will start at indx 1(Included) & end at indx 4(Not included)\n",
        "\n",
        "\n",
        "print(bye[-4 : -1])\n",
        "print(bye[-4 : -3])\n",
        "\n",
        "#NOTE :) the search will start at indx -4(Included) & end at indx -1(Not included)\n",
        "\n"
      ],
      "metadata": {
        "id": "nTsq7U8tYa7K"
      },
      "execution_count": null,
      "outputs": []
    },
    {
      "cell_type": "markdown",
      "source": [
        " ↪ `Range of indexes`"
      ],
      "metadata": {
        "id": "q66uryblERxa"
      }
    },
    {
      "cell_type": "code",
      "source": [
        "#by using +ve index\n",
        "# [smaller indx no  :   greater index no]\n",
        "\n",
        "sub=(12,13,14,15,16,17,81,19,61,71,91,51,31,211,155,100)\n",
        "print(sub[1:6])                               #execlude the value at index no 6\n",
        "print(sub[6:3])                         #does not return any elemenent\n",
        "print(sub[1 :])\n",
        "print(sub[: 3])                      #shortcuts\n",
        "print(sub[:])                    #prints all the elements in a list\n",
        "\n",
        "\n"
      ],
      "metadata": {
        "id": "m3Kt-pX0cjel"
      },
      "execution_count": null,
      "outputs": []
    },
    {
      "cell_type": "code",
      "source": [
        "#by using -ve index\n",
        "# [greater indx no  :   smaller index no]\n",
        "\n",
        "set=('a',  1,  True,  False,  5)\n",
        "#    -5   -4    -3     -2    -1\n",
        "\n",
        "print(set[-3:-1])                              #execlude the value at indx no -1\n",
        "print(set[-2:-1])\n",
        "print(set[-5 :-1 ] )#returns the val at index -5(included)to index -1(not included\n",
        "print(set[-6 :])\n",
        "print(set[:])"
      ],
      "metadata": {
        "id": "i0Xn-zDVdToL"
      },
      "execution_count": null,
      "outputs": []
    },
    {
      "cell_type": "markdown",
      "source": [
        " ↪ ` Inserting`\n",
        "    \n",
        "    insert item at specified index\n",
        "1. listname.insert(index No, value)\n",
        "2. listname.insert(index No, [list])"
      ],
      "metadata": {
        "id": "iRkE47P3XZzu"
      }
    },
    {
      "cell_type": "code",
      "source": [
        "s=['a',1,True,False,5]\n",
        "s.insert(3,567)\n",
        "print(s)\n",
        "s.insert(2,[2,3,4])# index numbr,[ list ]\n",
        "\n",
        "print(s)"
      ],
      "metadata": {
        "id": "OwDJYaWqgz6a"
      },
      "execution_count": null,
      "outputs": []
    },
    {
      "cell_type": "markdown",
      "source": [
        "*Shortcut method for inserting items*"
      ],
      "metadata": {
        "id": "0QsLXEvqqwx9"
      }
    },
    {
      "cell_type": "code",
      "source": [
        "i=['a',1,True,False,5]\n",
        "i[1]=\"hey\"\n",
        "print(i)"
      ],
      "metadata": {
        "id": "XspGBGZHqnZ0"
      },
      "execution_count": null,
      "outputs": []
    },
    {
      "cell_type": "markdown",
      "source": [
        " ↪`Append items`\n"
      ],
      "metadata": {
        "id": "RiR9tE7hhPgi"
      }
    },
    {
      "cell_type": "code",
      "source": [
        "#ADd an item at the end of list\n",
        "#listname.append(item)\n",
        "s=['a',1,True,False,5]\n",
        "s.append(\"hey\")\n",
        "print(s)"
      ],
      "metadata": {
        "id": "8GIl9aVLhN_A"
      },
      "execution_count": null,
      "outputs": []
    },
    {
      "cell_type": "markdown",
      "source": [
        "↪`Extend list`\n",
        "  * listname1.extend(listname2)"
      ],
      "metadata": {
        "id": "qH1HehyykBdz"
      }
    },
    {
      "cell_type": "code",
      "source": [
        "a=[1,2,3,4,5]\n",
        "b=[9,8,7,6,8]\n",
        "a.extend(b)        #combining 2 lists\n",
        "print(a)\n",
        "b.extend(a)\n",
        "print(b)"
      ],
      "metadata": {
        "id": "9PxEdXAIhGhQ"
      },
      "execution_count": null,
      "outputs": []
    },
    {
      "cell_type": "code",
      "source": [
        "#skip every 2element\n",
        "s=['a',1,True,False,5]\n",
        "\n",
        "b=s[ : : 2]        #print(abc[start:stop:step])\n",
        "print(b)"
      ],
      "metadata": {
        "id": "2omcbHO5hGO1"
      },
      "execution_count": null,
      "outputs": []
    },
    {
      "cell_type": "markdown",
      "source": [
        "↪ `Remove specified items`\n",
        "   * listname.remove(\"item\")\n"
      ],
      "metadata": {
        "id": "KzHeCWssmmFD"
      }
    },
    {
      "cell_type": "code",
      "source": [
        "X=['a',1,True,False,5]\n",
        "X.remove(5)\n",
        "print(X)"
      ],
      "metadata": {
        "id": "08uIaeP_m8xI"
      },
      "execution_count": null,
      "outputs": []
    },
    {
      "cell_type": "markdown",
      "source": [
        "↪`Remove specified index`"
      ],
      "metadata": {
        "id": "F9Y_pKA2njFx"
      }
    },
    {
      "cell_type": "code",
      "source": [
        "#pop\n",
        "#delete\n",
        "#clear\n",
        "K=['a',1,True,False,5]\n",
        "\n",
        "K.pop()       #if you do not specify the index this method will removes last item\n",
        "print(K)\n",
        "\n",
        "K.pop(2)\n",
        "print(K)\n",
        "\n",
        "K.clear()\n",
        "print(K)\n",
        "\n",
        "del(K)\n",
        "print(K)                            #del keyword can also delete the entire list\n"
      ],
      "metadata": {
        "id": "ElCuiDuakJ98"
      },
      "execution_count": null,
      "outputs": []
    },
    {
      "cell_type": "code",
      "source": [
        "#to reverse the list\n",
        "\n",
        "x=[1,20.5,True,False,\"hmmm\"]\n",
        "d=x[: : -1]\n",
        "print(d)"
      ],
      "metadata": {
        "id": "lwgqwgH9zz_j"
      },
      "execution_count": null,
      "outputs": []
    },
    {
      "cell_type": "markdown",
      "source": [
        "↪` Loop through a list`"
      ],
      "metadata": {
        "id": "7CQ1F-a5NTCc"
      }
    },
    {
      "cell_type": "code",
      "source": [
        "\n",
        "y=[1,20.5,True,False,\"hmmm\"]\n",
        "for z in y:\n",
        "  print(z)"
      ],
      "metadata": {
        "id": "bs2c4tfVNAFy"
      },
      "execution_count": null,
      "outputs": []
    },
    {
      "cell_type": "code",
      "source": [
        "#short hand for loop\n",
        "y=[1,20.5,True,False,\"hmmm\"]\n",
        "[ print(z) for z in y]\n"
      ],
      "metadata": {
        "id": "oGQ3CSyMNjDo"
      },
      "execution_count": null,
      "outputs": []
    },
    {
      "cell_type": "markdown",
      "source": [
        "# `↪Tuple() is immutable`\n",
        "\n",
        "1. tuples are written with round brackets\n",
        "2. tuples is a collection  which is  ordered,unchanageble,&allow duplicate value"
      ],
      "metadata": {
        "id": "tHbuMCHypFKJ"
      }
    },
    {
      "cell_type": "code",
      "source": [
        "#Data type of tuple\n",
        "\n",
        "\n",
        "T=(1,20.5,True,False,\"kind\")\n",
        "T=tuple(T)\n",
        "print(type(T))#type casting :changing  the type of T from the list to tuple"
      ],
      "metadata": {
        "id": "Vs7s9M9qpOQL"
      },
      "execution_count": null,
      "outputs": []
    },
    {
      "cell_type": "code",
      "source": [
        "#tuple with one item (,)\n",
        "\n",
        "thistuple=(\"abc\" ,)\n",
        "print(type(thistuple))\n",
        "\n",
        "thistuple=(\"abc\")\n",
        "print(type(thistuple))"
      ],
      "metadata": {
        "id": "Z-nlw4WW0aMj"
      },
      "execution_count": null,
      "outputs": []
    },
    {
      "cell_type": "markdown",
      "source": [
        "↪`Access Tuple items`\n"
      ],
      "metadata": {
        "id": "XA8uNnfFtSSm"
      }
    },
    {
      "cell_type": "code",
      "source": [
        "  #    0   1    2      3     4    5\n",
        "bye=[ 1, 20.9,\"hello\",True,False,'A']\n",
        "#    -6   -5    -4     -3   -2   -1\n",
        "\n",
        "print(bye[2])\n",
        "print(bye[4])\n",
        "\n",
        "\n",
        "print(bye[-1])       # -ve indexing\n",
        "print(bye[-3])\n",
        "\n",
        "\n",
        "print(bye[1:4])               #range of indexes\n",
        "print(bye[3:4])\n",
        "print(bye[2 :])\n",
        "print(bye[:])\n",
        "#NOTE :) the search will start at indx 1(Included) & end at indx 4(Not included)\n",
        "\n",
        "print(bye[-4 : -1])                     # range of -ve indexes\n",
        "print(bye[-4 : -3])\n"
      ],
      "metadata": {
        "id": "U78Z-GYLsXuo"
      },
      "execution_count": null,
      "outputs": []
    },
    {
      "cell_type": "markdown",
      "source": [
        "↪`Update Tuples`"
      ],
      "metadata": {
        "id": "dK4lpyewvAxl"
      }
    },
    {
      "cell_type": "code",
      "source": [
        "#change tuple values\n",
        "  #Convert the tuple into a list to be able to change it\n",
        "\n",
        "T=(1,20.5,True,False,\"hey\")\n",
        "p=list(T)\n",
        "p[1]=\"nap\"\n",
        "T=tuple(p)\n",
        "print(T)\n",
        "print(type(T))\n"
      ],
      "metadata": {
        "id": "-TNkzDPfvJ10"
      },
      "execution_count": null,
      "outputs": []
    },
    {
      "cell_type": "code",
      "source": [
        "T=[1,20.5,True,False,\"hey\"]\n",
        "p=tuple(T)                # tuples are  unchangeble  once it is created\n",
        "p[1]=\"nap\"\n",
        "T=tuple(p)\n",
        "print(T)\n",
        "print(type(T))\n",
        "\n",
        "\n"
      ],
      "metadata": {
        "id": "Av8dvagIxjCF"
      },
      "execution_count": null,
      "outputs": []
    },
    {
      "cell_type": "code",
      "source": [
        "T=[1,20.5,True,False,\"hmm\"]\n",
        "T=tuple(T)\n",
        "E=T[1:-1]\n",
        "print(E)\n",
        "print(type(E))\n",
        "\n",
        "print(T)\n"
      ],
      "metadata": {
        "id": "CU8NspSPp2qo"
      },
      "execution_count": null,
      "outputs": []
    },
    {
      "cell_type": "code",
      "source": [
        "#short hand for loop\n",
        "y=(1,20.5,True,False,\"hmmm\")\n",
        "[ print(z) for z in y]\n"
      ],
      "metadata": {
        "id": "26TaMtWMPVjt"
      },
      "execution_count": null,
      "outputs": []
    },
    {
      "cell_type": "code",
      "source": [
        "#join multipl tuples\n",
        "T1=(1,20.5,True,False,\"wow\")\n",
        "\n",
        "T2=T1*2\n",
        "print(T2)"
      ],
      "metadata": {
        "id": "IDi8oidWP9cl"
      },
      "execution_count": null,
      "outputs": []
    }
  ]
}