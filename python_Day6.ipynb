{
  "nbformat": 4,
  "nbformat_minor": 0,
  "metadata": {
    "colab": {
      "provenance": [],
      "authorship_tag": "ABX9TyPaSJxMDgSkZ+vTza3EUPQR",
      "include_colab_link": true
    },
    "kernelspec": {
      "name": "python3",
      "display_name": "Python 3"
    },
    "language_info": {
      "name": "python"
    }
  },
  "cells": [
    {
      "cell_type": "markdown",
      "metadata": {
        "id": "view-in-github",
        "colab_type": "text"
      },
      "source": [
        "<a href=\"https://colab.research.google.com/github/syedaBasmaAfreen/python-DA-ML/blob/main/python_Day6.ipynb\" target=\"_parent\"><img src=\"https://colab.research.google.com/assets/colab-badge.svg\" alt=\"Open In Colab\"/></a>"
      ]
    },
    {
      "cell_type": "markdown",
      "source": [
        "# ⌨   Day 6"
      ],
      "metadata": {
        "id": "RM6NvdtyjClZ"
      }
    },
    {
      "cell_type": "markdown",
      "source": [
        "*DA with python*\n",
        "\n",
        "* to use array in python we have to include library called numpy.\n",
        "    ***import numpy as np***\n",
        "*  arrays are  50x faster than list\n",
        "bcz arrays store in contigious memory location\n"
      ],
      "metadata": {
        "id": "6siNcb2ZCSal"
      }
    },
    {
      "cell_type": "code",
      "execution_count": null,
      "metadata": {
        "id": "qbno5PgZBL6i"
      },
      "outputs": [],
      "source": [
        "import numpy as np\n",
        "r1=np.array([1,2,3,4,5,6,7,8])#if we do not type cast (np.array)it will conidr it as list\n",
        "\n",
        "r2=np.array(['a','b','c','d','e'])\n",
        "\n",
        "r3=np.array([2.0,1.3,2.4,5.6,7.6])\n",
        "\n",
        "r4=np.array([\"syeda\",\"basma\",\"afreen\",\"mca\",\"internship\"])\n",
        "  #print(r1.append(10))\n",
        "print(r1[0])\n",
        "print(r2[0])                                                   #accessing\n",
        "print(r3[0])\n",
        "print(r4[0])\n",
        "\n",
        "r1[0]=99999\n",
        "print(r1)                                                 #modifying\n",
        "\n",
        "\n",
        "\n",
        "print(r2[1:4])\n",
        "print(r1[: : 2])                                    # subset\n",
        "print(r1[: : -2])\n",
        "\n",
        "print(len(r1))\n",
        "\n",
        "print(r1.dtype)                          #type of array\n",
        "print(r3.dtype)\n",
        "\n",
        "\n",
        "\n",
        "print(r1[1]+r1[2])            # concatenate\n",
        "print(r4[0]+r4[1]+r4[2])\n",
        "\n",
        "\n",
        "\n",
        "\n",
        "#print(r1[0]=000000)expression cannot contain assignment, perhaps you meant \"==\"?\n",
        "\n",
        "\n",
        "\n",
        "\n"
      ]
    },
    {
      "cell_type": "code",
      "source": [
        "#sorting array\n",
        "\n",
        "import numpy as np\n",
        "\n",
        "sr=np.array(['l','a','b','c','d','e'])\n",
        "\n",
        "#r5.append('k')\n",
        "#print(r5)\n",
        "sr.sort()\n",
        "print(sr)"
      ],
      "metadata": {
        "id": "X7XwRKQWOIru"
      },
      "execution_count": null,
      "outputs": []
    },
    {
      "cell_type": "code",
      "source": [
        "#spliting array\n",
        "\n",
        "\n",
        "spi=np.array([1,2,3,4,5,6,7,8,9,10,11,12])#split array in 3parts\n",
        "new_arr=np.array_split(spi,3)\n",
        "print(new_arr)\n",
        "print(new_arr[0])"
      ],
      "metadata": {
        "colab": {
          "base_uri": "https://localhost:8080/"
        },
        "id": "fRpu0-ygR-ep",
        "outputId": "1847981b-6913-465c-c21e-05d2cb652b1f"
      },
      "execution_count": null,
      "outputs": [
        {
          "output_type": "stream",
          "name": "stdout",
          "text": [
            "[array([1, 2, 3, 4]), array([5, 6, 7, 8]), array([ 9, 10, 11, 12])]\n",
            "[1 2 3 4]\n"
          ]
        }
      ]
    },
    {
      "cell_type": "code",
      "source": [
        "r11=np.array([1,2,3,4,5,6,7,8])#1d ;containing the values\n",
        "r22=np.array([[1,2,3,4],[5,6,7,8]])#2D; 1-D arrays as its element\n",
        "r33=np.array([[[1,2,3,4],[5,6,7,8]],[[5,6,7,8],[5,6,7,8]]])#3D ;2d array as ele\n",
        "\n",
        "\n",
        "array=np.array([[[1,2,3,4],[5,6,7,8],[5,6,7,8]]])\n",
        "\n",
        "print(r11)\n",
        "\n",
        "\n",
        "print(r22)\n",
        "\n",
        "print(r33)\n",
        "\n",
        "\n",
        "\n",
        "print(array.ndim)\n",
        "print(array)\n"
      ],
      "metadata": {
        "id": "u-GvAnQvbCqH",
        "colab": {
          "base_uri": "https://localhost:8080/"
        },
        "outputId": "c05d2971-cd23-4561-cec2-8cac158e31a7"
      },
      "execution_count": null,
      "outputs": [
        {
          "output_type": "stream",
          "name": "stdout",
          "text": [
            "[1 2 3 4 5 6 7 8]\n",
            "[[1 2 3 4]\n",
            " [5 6 7 8]]\n",
            "[[[1 2 3 4]\n",
            "  [5 6 7 8]]\n",
            "\n",
            " [[5 6 7 8]\n",
            "  [5 6 7 8]]]\n",
            "3\n",
            "[[[1 2 3 4]\n",
            "  [5 6 7 8]\n",
            "  [5 6 7 8]]]\n"
          ]
        }
      ]
    },
    {
      "cell_type": "code",
      "source": [
        "r11=np.array([1,2,3,4,5,6,7,8])\n",
        "r22=np.array([[[[[[1,2,3,4],[5,6,7,8],[1,2,3,4]]]]]])\n",
        "r33=np.array([[[1,2,3,4],[5,6,7,8],[5,6,7,8]]])\n",
        "r44=np.array([[[[1,2,3,4],[5,6,7,8]],[[5,6,7,8],[5,6,7,8]]]])\n",
        "print(r11.ndim)                                                #  no of brackets\n",
        "print(r22.ndim)\n",
        "print(r33.ndim)\n",
        "print(r44.ndim)\n"
      ],
      "metadata": {
        "colab": {
          "base_uri": "https://localhost:8080/"
        },
        "id": "H3NKYddWDZ-p",
        "outputId": "523e4c75-bbfe-41cc-cb58-1d1e00ab286d"
      },
      "execution_count": null,
      "outputs": [
        {
          "output_type": "stream",
          "name": "stdout",
          "text": [
            "1\n",
            "6\n",
            "3\n",
            "4\n"
          ]
        }
      ]
    },
    {
      "cell_type": "code",
      "source": [
        "arr11 = np.array(42)\n",
        "arr22 = np.array([1, 2, 3, 4, 5],ndmin=5)                   #creating dimensions\n",
        "arr33= np.array([[1, 2, 3], [4, 5, 6]],ndmin=7)\n",
        "\n",
        "\n",
        "\n",
        "print(arr11)\n",
        "\n",
        "\n",
        "print(arr22)\n",
        "\n",
        "\n",
        "print(arr33)\n",
        "\n",
        "\n"
      ],
      "metadata": {
        "id": "vqZEBFnljWUv",
        "colab": {
          "base_uri": "https://localhost:8080/"
        },
        "outputId": "0feca918-5cdc-42b9-d570-fc739414e7a7"
      },
      "execution_count": null,
      "outputs": [
        {
          "output_type": "stream",
          "name": "stdout",
          "text": [
            "42\n",
            "[[[[[1 2 3 4 5]]]]]\n",
            "[[[[[[[1 2 3]\n",
            "      [4 5 6]]]]]]]\n"
          ]
        }
      ]
    },
    {
      "cell_type": "code",
      "source": [
        "arr33= np.array([[1, 2, 3], [4, 5, 6]],ndmin=8)\n",
        "print(arr33)\n",
        "print(arr33.ndim)"
      ],
      "metadata": {
        "colab": {
          "base_uri": "https://localhost:8080/"
        },
        "id": "pynEJ0nUGoa5",
        "outputId": "645840a3-e1b5-4092-85bc-ebd78625b946"
      },
      "execution_count": null,
      "outputs": [
        {
          "output_type": "stream",
          "name": "stdout",
          "text": [
            "[[[[[[[[1 2 3]\n",
            "       [4 5 6]]]]]]]]\n",
            "8\n"
          ]
        }
      ]
    },
    {
      "cell_type": "markdown",
      "source": [
        "**Shape of array**"
      ],
      "metadata": {
        "id": "epOm4ZkEidYO"
      }
    },
    {
      "cell_type": "code",
      "source": [
        "r=np.array([1,2,3,4,5,6,7,8,9,10,11,12,])\n",
        "print(r.shape)"
      ],
      "metadata": {
        "id": "cpHHkqMr44Y3",
        "colab": {
          "base_uri": "https://localhost:8080/"
        },
        "outputId": "72797846-308c-4287-b006-0b0267ba4ce4"
      },
      "execution_count": null,
      "outputs": [
        {
          "output_type": "stream",
          "name": "stdout",
          "text": [
            "(12,)\n"
          ]
        }
      ]
    },
    {
      "cell_type": "code",
      "source": [
        "r=np.array([[1,2,3,4,5,6,7,8,9,10,11,12,]])\n",
        "print(r.shape)"
      ],
      "metadata": {
        "id": "Bej_heUR96ut",
        "colab": {
          "base_uri": "https://localhost:8080/"
        },
        "outputId": "539bdb1b-32d2-4111-cabc-1268d86ca176"
      },
      "execution_count": null,
      "outputs": [
        {
          "output_type": "stream",
          "name": "stdout",
          "text": [
            "(1, 12)\n"
          ]
        }
      ]
    },
    {
      "cell_type": "code",
      "source": [
        "r=np.array([[1,2,3,4,5,6,],[7,8,9,10,11,12,]])\n",
        "print(r)\n",
        "print(r.shape)#2 is no of6  brackets  &  6 is ele prsnt in each bracket"
      ],
      "metadata": {
        "id": "wgJ5jTRW1jl9",
        "colab": {
          "base_uri": "https://localhost:8080/"
        },
        "outputId": "b4232d13-27e8-43c5-fae9-a5641b4a4a5d"
      },
      "execution_count": null,
      "outputs": [
        {
          "output_type": "stream",
          "name": "stdout",
          "text": [
            "[[ 1  2  3  4  5  6]\n",
            " [ 7  8  9 10 11 12]]\n",
            "(2, 6)\n"
          ]
        }
      ]
    },
    {
      "cell_type": "code",
      "source": [
        "r=np.array([[[1,2,3,4,5,6,]],[[7,8,9,10,11,12,]]])\n",
        "print(r)\n",
        "print(r.shape)"
      ],
      "metadata": {
        "id": "hSf8spSi-MTh",
        "colab": {
          "base_uri": "https://localhost:8080/"
        },
        "outputId": "67f5f062-cd3d-4824-cc78-4bcdc7030103"
      },
      "execution_count": null,
      "outputs": [
        {
          "output_type": "stream",
          "name": "stdout",
          "text": [
            "[[[ 1  2  3  4  5  6]]\n",
            "\n",
            " [[ 7  8  9 10 11 12]]]\n",
            "(2, 1, 6)\n"
          ]
        }
      ]
    },
    {
      "cell_type": "code",
      "source": [
        "import numpy as np\n",
        "r=np.array([[[1,2,3,4,5,6,],[7,8,9,10,11,12,]]])\n",
        "print(r)\n",
        "print(r.shape)"
      ],
      "metadata": {
        "id": "SOJnklpT-smU",
        "colab": {
          "base_uri": "https://localhost:8080/"
        },
        "outputId": "55c226bd-ffc1-49fe-f584-4f90e574a643"
      },
      "execution_count": null,
      "outputs": [
        {
          "output_type": "stream",
          "name": "stdout",
          "text": [
            "[[[ 1  2  3  4  5  6]\n",
            "  [ 7  8  9 10 11 12]]]\n",
            "(1, 2, 6)\n"
          ]
        }
      ]
    },
    {
      "cell_type": "code",
      "source": [
        "ar=np.array([1,2,3,4,5,6,7,8,9,10,11,12])\n",
        "print(ar)\n",
        "print(ar.shape)\n",
        "print(ar.ndim)\n",
        "new=ar.reshape(3,2,2)\n",
        "print(new)\n",
        "print(new.shape)\n",
        "print(new.ndim)"
      ],
      "metadata": {
        "id": "CncJ9Y0DijSG"
      },
      "execution_count": null,
      "outputs": []
    },
    {
      "cell_type": "markdown",
      "source": [
        "# convert 1d into 2d\n"
      ],
      "metadata": {
        "id": "mUXqXKCcqR5R"
      }
    },
    {
      "cell_type": "code",
      "source": [
        "r11=np.array([1,2,3,4,5,6,7,8,9,10,11,12,])\n",
        "r222=r11.reshape(2,6)\n",
        "print(r222)\n",
        "r111=r11.reshape(4,3)\n",
        "print(r111)"
      ],
      "metadata": {
        "id": "YgFBwIhzp9bi"
      },
      "execution_count": null,
      "outputs": []
    },
    {
      "cell_type": "markdown",
      "source": [
        "# converting 1D into 3D"
      ],
      "metadata": {
        "id": "xheEoUBc3Jwb"
      }
    },
    {
      "cell_type": "code",
      "source": [
        "r10=np.array([1,2,3,4,5,6,7,8,9,10,11,12,])\n",
        "r20=r10.reshape(3,2,2)\n",
        "print(r20)\n",
        "print(r20.shape)\n",
        "print(r10.ndim)\n",
        "print(r20.ndim)"
      ],
      "metadata": {
        "id": "N36uY33LxBKD",
        "colab": {
          "base_uri": "https://localhost:8080/"
        },
        "outputId": "7db47943-4603-4b15-f9db-b8d2fec381cd"
      },
      "execution_count": null,
      "outputs": [
        {
          "output_type": "stream",
          "name": "stdout",
          "text": [
            "[[[ 1  2]\n",
            "  [ 3  4]]\n",
            "\n",
            " [[ 5  6]\n",
            "  [ 7  8]]\n",
            "\n",
            " [[ 9 10]\n",
            "  [11 12]]]\n",
            "(3, 2, 2)\n",
            "1\n",
            "3\n"
          ]
        }
      ]
    },
    {
      "cell_type": "code",
      "source": [
        "rr1=np.array([1,2,3,4,5,6,7,8,9,10,11,12])#doubt\n",
        "#new1=rr1.reshape(3,2,2)     #rows dim column\n",
        "\n",
        "new2=rr1.reshape(2,3,2)\n",
        "print(rr1.ndim)\n",
        "print(new2.ndim)"
      ],
      "metadata": {
        "colab": {
          "base_uri": "https://localhost:8080/"
        },
        "id": "kfC6zxjuJKKj",
        "outputId": "42d77ce6-9b10-4c1d-ed0d-b297c548ddb2"
      },
      "execution_count": null,
      "outputs": [
        {
          "output_type": "stream",
          "name": "stdout",
          "text": [
            "1\n",
            "3\n"
          ]
        }
      ]
    },
    {
      "cell_type": "markdown",
      "source": [
        "# Converting Multi D into 1d"
      ],
      "metadata": {
        "id": "KeN8zWRSCb28"
      }
    },
    {
      "cell_type": "code",
      "source": [
        "array1=np.array([[1,2,3],[4,5,6]])\n",
        "print(array1)\n",
        "new=array1.reshape(-1)\n",
        "print(new)\n"
      ],
      "metadata": {
        "id": "veCCNTFWCUIs"
      },
      "execution_count": null,
      "outputs": []
    },
    {
      "cell_type": "code",
      "source": [
        "array1=np.array([[1,2,3],[4,5,6],[2,2,3]])\n",
        "print(array1)\n",
        "new=array1.reshape(-1)\n",
        "print(new)\n"
      ],
      "metadata": {
        "id": "Cn2lhHCpCafu"
      },
      "execution_count": null,
      "outputs": []
    },
    {
      "cell_type": "markdown",
      "source": [
        "2d array"
      ],
      "metadata": {
        "id": "NTUHx5YaAu8Q"
      }
    },
    {
      "cell_type": "code",
      "source": [
        "ay=np.array([[1,2,3],[4,5,6]])\n",
        "print(ay)\n",
        "print(ay[0])\n",
        "print(ay[1])\n",
        "\n",
        "\n",
        "print(ay[0][1:5])\n",
        "print(ay[0,1])#Access the element on the first row, second column\n",
        "print(ay.shape)\n",
        "print(ay.ndim)\n",
        "print(ay.reshape(3,2))"
      ],
      "metadata": {
        "id": "x8fRMOfizxP5",
        "colab": {
          "base_uri": "https://localhost:8080/"
        },
        "outputId": "5c450c44-3584-4ac0-b815-f04dabab0bb7"
      },
      "execution_count": null,
      "outputs": [
        {
          "output_type": "stream",
          "name": "stdout",
          "text": [
            "[[1 2 3]\n",
            " [4 5 6]]\n",
            "[1 2 3]\n",
            "[4 5 6]\n",
            "[2 3]\n",
            "2\n",
            "(2, 3)\n",
            "2\n",
            "[[1 2]\n",
            " [3 4]\n",
            " [5 6]]\n"
          ]
        }
      ]
    },
    {
      "cell_type": "code",
      "source": [
        "\n",
        "ay1=np.array([[[[1,2,3,4],[5,6,7,8],[5,6,7,8],[5,6,7,8]]]])\n",
        "print(ay1)\n",
        "print(ay1.ndim)\n",
        "print(ay1.reshape(2,8))\n",
        "print(ay1.ndim)\n",
        "print(ay1.reshape(4,4))\n",
        "print(ay1.ndim)\n",
        "print(ay1.reshape(8,2))"
      ],
      "metadata": {
        "id": "3F3XVXAo_jUK",
        "colab": {
          "base_uri": "https://localhost:8080/"
        },
        "outputId": "93770d9a-5146-4736-9dbd-5b63a041a46d"
      },
      "execution_count": null,
      "outputs": [
        {
          "output_type": "stream",
          "name": "stdout",
          "text": [
            "[[[[1 2 3 4]\n",
            "   [5 6 7 8]\n",
            "   [5 6 7 8]\n",
            "   [5 6 7 8]]]]\n",
            "4\n",
            "[[1 2 3 4 5 6 7 8]\n",
            " [5 6 7 8 5 6 7 8]]\n",
            "4\n",
            "[[1 2 3 4]\n",
            " [5 6 7 8]\n",
            " [5 6 7 8]\n",
            " [5 6 7 8]]\n",
            "4\n",
            "[[1 2]\n",
            " [3 4]\n",
            " [5 6]\n",
            " [7 8]\n",
            " [5 6]\n",
            " [7 8]\n",
            " [5 6]\n",
            " [7 8]]\n"
          ]
        }
      ]
    },
    {
      "cell_type": "markdown",
      "source": [
        "**Iterating means going through elements one by one**\n",
        "1. If we iterate on a 1-D array it will go through each element one by one.\n",
        "\n"
      ],
      "metadata": {
        "id": "h1QhxerzPTCo"
      }
    },
    {
      "cell_type": "code",
      "source": [
        "loop=np.array([1,2,3,4,5,6,7,8,9,10,11,12])\n",
        "for x in loop:\n",
        "  print(x)"
      ],
      "metadata": {
        "colab": {
          "base_uri": "https://localhost:8080/"
        },
        "id": "B7jyY-jwIS4m",
        "outputId": "47b9405d-ad00-4ff6-c508-ffaf4e220ea6"
      },
      "execution_count": null,
      "outputs": [
        {
          "output_type": "stream",
          "name": "stdout",
          "text": [
            "1\n",
            "2\n",
            "3\n",
            "4\n",
            "5\n",
            "6\n",
            "7\n",
            "8\n",
            "9\n",
            "10\n",
            "11\n",
            "12\n"
          ]
        }
      ]
    },
    {
      "cell_type": "markdown",
      "source": [
        "2. In a 2-D array it will go through all the rows"
      ],
      "metadata": {
        "id": "fGsnSEs4QLYE"
      }
    },
    {
      "cell_type": "code",
      "source": [
        "loop2=np.array([[1,2,3],[4,5,6]])\n",
        "for y in loop2:\n",
        "\n",
        "    print(y)\n"
      ],
      "metadata": {
        "colab": {
          "base_uri": "https://localhost:8080/"
        },
        "id": "gNTtmQkNQLCW",
        "outputId": "9c758d3f-6269-4eb3-811f-dce325a2782d"
      },
      "execution_count": null,
      "outputs": [
        {
          "output_type": "stream",
          "name": "stdout",
          "text": [
            "[1 2 3]\n",
            "[4 5 6]\n"
          ]
        }
      ]
    },
    {
      "cell_type": "markdown",
      "source": [
        "3. we have to iterate the arrays in each dimension"
      ],
      "metadata": {
        "id": "AJ3Uo5N1RU82"
      }
    },
    {
      "cell_type": "code",
      "source": [
        "loop3=np.array([[1,2,3],[4,5,6]])\n",
        "for x in loop3:\n",
        "  for y in x:\n",
        "    print(y)\n"
      ],
      "metadata": {
        "colab": {
          "base_uri": "https://localhost:8080/"
        },
        "id": "Pt_SzDFhNXSv",
        "outputId": "0753a56b-993b-4a63-e4c7-821465871707"
      },
      "execution_count": null,
      "outputs": [
        {
          "output_type": "stream",
          "name": "stdout",
          "text": [
            "1\n",
            "2\n",
            "3\n",
            "4\n",
            "5\n",
            "6\n"
          ]
        }
      ]
    },
    {
      "cell_type": "markdown",
      "source": [],
      "metadata": {
        "id": "l6Iob-EuRnOt"
      }
    },
    {
      "cell_type": "code",
      "source": [
        "loop4= np.array([[[1, 2, 3], [4, 5, 6]], [[7, 8, 9], [10, 11, 12]]])\n",
        "\n",
        "for x in loop4:\n",
        "  for y in x:\n",
        "    for z in y:\n",
        "      print(z)"
      ],
      "metadata": {
        "colab": {
          "base_uri": "https://localhost:8080/"
        },
        "id": "vltZUTJuRfA2",
        "outputId": "06a35e4b-b2c1-48cc-8875-0487ffbd0ff4"
      },
      "execution_count": null,
      "outputs": [
        {
          "output_type": "stream",
          "name": "stdout",
          "text": [
            "1\n",
            "2\n",
            "3\n",
            "4\n",
            "5\n",
            "6\n",
            "7\n",
            "8\n",
            "9\n",
            "10\n",
            "11\n",
            "12\n"
          ]
        }
      ]
    },
    {
      "cell_type": "markdown",
      "source": [
        "# filtering array\n",
        "1. the new array contains only the values where the filter array had the value True, in this case, index 0 and 2"
      ],
      "metadata": {
        "id": "KqhcgvYpW32g"
      }
    },
    {
      "cell_type": "code",
      "source": [
        "ARRAY=np.array([10,20,30,40,50])\n",
        "f=[True,False,True,False,True]#creating a new array\n",
        "newarr=ARRAY[f]\n",
        "print(newarr)"
      ],
      "metadata": {
        "colab": {
          "base_uri": "https://localhost:8080/"
        },
        "id": "mZi-wxVIW3TM",
        "outputId": "ffb2df22-5547-4300-9012-646cd1881449"
      },
      "execution_count": null,
      "outputs": [
        {
          "output_type": "stream",
          "name": "stdout",
          "text": [
            "[10 30 50]\n"
          ]
        }
      ]
    },
    {
      "cell_type": "code",
      "source": [
        "ARRAY=np.array([10,20,30,40,50])\n",
        "arr=[]\n",
        "for x in ARRAY :\n",
        "  if x>20:\n",
        "   print(\"yes\")\n",
        "  else:\n",
        "    print('no')"
      ],
      "metadata": {
        "colab": {
          "base_uri": "https://localhost:8080/"
        },
        "id": "Kv4qEau0Ylog",
        "outputId": "be0b4d08-b722-47b4-cb6b-8914d948cff1"
      },
      "execution_count": null,
      "outputs": [
        {
          "output_type": "stream",
          "name": "stdout",
          "text": [
            "no\n",
            "no\n",
            "yes\n",
            "yes\n",
            "yes\n"
          ]
        }
      ]
    },
    {
      "cell_type": "code",
      "source": [
        "ARRAY=np.array([10,20,30,40,50])\n",
        "filter_arr=[]\n",
        "for x in ARRAY :\n",
        "  if x>20:\n",
        "   filter_arr.append(True)\n",
        "  else:\n",
        "   filter_arr.append(False)\n",
        "print(filter_arr)\n",
        "new=ARRAY[filter_arr]\n",
        "print(new)"
      ],
      "metadata": {
        "colab": {
          "base_uri": "https://localhost:8080/"
        },
        "id": "Oxwm1jrPakZg",
        "outputId": "4ed33d03-c554-44a1-a51d-907b4f5206ea"
      },
      "execution_count": null,
      "outputs": [
        {
          "output_type": "stream",
          "name": "stdout",
          "text": [
            "[False, False, True, True, True]\n",
            "[30 40 50]\n"
          ]
        }
      ]
    },
    {
      "cell_type": "code",
      "source": [
        "\n",
        "import numpy as np\n",
        "\n",
        "array=np.array([1,2,3,4,5,6,7,8,9,10])\n",
        "findall_even=[]\n",
        "findall_odd=[]\n",
        "\n",
        "for y in array :\n",
        "  if y %2 == 0 :\n",
        "    findall_even.append(True)\n",
        "  else:\n",
        "   findall_even.append(False)\n",
        "print(findall_even)\n",
        "new=array[findall_even]\n",
        "print(new)\n",
        "new2=array[findall_odd]\n",
        "print(new2)\n"
      ],
      "metadata": {
        "colab": {
          "base_uri": "https://localhost:8080/"
        },
        "id": "lEjiD--mcaAk",
        "outputId": "f220e318-6d83-4ea2-e6e7-ea4be9a32079"
      },
      "execution_count": null,
      "outputs": [
        {
          "output_type": "stream",
          "name": "stdout",
          "text": [
            "[False, True, False, True, False, True, False, True, False, True]\n",
            "[ 2  4  6  8 10]\n",
            "[]\n"
          ]
        }
      ]
    },
    {
      "cell_type": "code",
      "source": [
        "import numpy as np\n",
        "\n",
        "arr = np.array([1, 2, 3, 4, 5, 6, 7,8,9,10])\n",
        "\n",
        "# Create an empty list\n",
        "even =[]\n",
        "odd=[]\n",
        "\n",
        "# go through each element in arr\n",
        "for element in arr:\n",
        "for y in arr:\n",
        "\n",
        "  # if the element is completely divisble by 2, set the value to True, otherwise False\n",
        "  if element % 2 == 0:\n",
        "    even.append(True)\n",
        "  elif y %  2!=0:\n",
        "    odd.append(True)\n",
        "  else:\n",
        "    even.append(False)"
      ],
      "metadata": {
        "id": "Pp1gHEgxM33F"
      },
      "execution_count": null,
      "outputs": []
    }
  ]
}