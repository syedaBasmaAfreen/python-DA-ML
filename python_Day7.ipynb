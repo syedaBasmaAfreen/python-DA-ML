{
  "nbformat": 4,
  "nbformat_minor": 0,
  "metadata": {
    "colab": {
      "private_outputs": true,
      "provenance": [],
      "authorship_tag": "ABX9TyObHikNqfM2MqX4fm/VyaVr",
      "include_colab_link": true
    },
    "kernelspec": {
      "name": "python3",
      "display_name": "Python 3"
    },
    "language_info": {
      "name": "python"
    }
  },
  "cells": [
    {
      "cell_type": "markdown",
      "metadata": {
        "id": "view-in-github",
        "colab_type": "text"
      },
      "source": [
        "<a href=\"https://colab.research.google.com/github/syedaBasmaAfreen/python-DA-ML/blob/main/python_Day7.ipynb\" target=\"_parent\"><img src=\"https://colab.research.google.com/assets/colab-badge.svg\" alt=\"Open In Colab\"/></a>"
      ]
    },
    {
      "cell_type": "markdown",
      "source": [
        "# ⌨ Day7"
      ],
      "metadata": {
        "id": "CEkaluc-x6ZY"
      }
    },
    {
      "cell_type": "markdown",
      "source": [
        "## `Pandas`\n",
        "Dataframes and series are core objects"
      ],
      "metadata": {
        "id": "5uN2NnLg9SWq"
      }
    },
    {
      "cell_type": "markdown",
      "source": [
        "# `Series`"
      ],
      "metadata": {
        "id": "irAtsX0uCdR5"
      }
    },
    {
      "cell_type": "code",
      "source": [
        "#1\n",
        "import pandas as pd\n",
        "pd.Series([1,2,3,4,5])"
      ],
      "metadata": {
        "id": "GWTNenBsBpVm"
      },
      "execution_count": null,
      "outputs": []
    },
    {
      "cell_type": "code",
      "source": [
        "#2\n",
        "import pandas as pd\n",
        "arr =[1,6,5,7]\n",
        "print(arr)\n",
        "my_series=pd.Series(arr)\n",
        "print(my_series)"
      ],
      "metadata": {
        "id": "oRHXzoNWU9Fr"
      },
      "execution_count": null,
      "outputs": []
    },
    {
      "cell_type": "code",
      "source": [
        "arr =[1,6,5,7]\n",
        "my_series=pd.Series(arr,index=['x','y','z','a'])\n",
        "print(my_series)"
      ],
      "metadata": {
        "id": "YQcLXoKAVdO5"
      },
      "execution_count": null,
      "outputs": []
    },
    {
      "cell_type": "code",
      "source": [
        "my_series=my_series.reindex(index=['a','b','c','d','e'])\n",
        "my_series"
      ],
      "metadata": {
        "id": "DLTw0OQtVxJz"
      },
      "execution_count": null,
      "outputs": []
    },
    {
      "cell_type": "code",
      "source": [
        "#3\n",
        "a=pd.Series([1,2,3,4])\n",
        "#a=a.reindex(index=['a','b','c','d'])\n",
        "a"
      ],
      "metadata": {
        "id": "dXoC8ciOWi84"
      },
      "execution_count": null,
      "outputs": []
    },
    {
      "cell_type": "code",
      "source": [
        "a=pd.Series([1,2,3,4],index=['x','y','z','w'])\n",
        "#a=a.reindex(index=['a','b','c','d'])\n",
        "a"
      ],
      "metadata": {
        "id": "c_yNPDxaYMQ_"
      },
      "execution_count": null,
      "outputs": []
    },
    {
      "cell_type": "code",
      "source": [
        "calories ={\n",
        "    \"day1\":567,\n",
        "        \"day2\":67,\n",
        "      \"day3\":9009,\n",
        "      \"day4\":324,\n",
        "}\n",
        "my_series=pd.Series(calories)\n",
        "print(my_series)\n",
        "\n"
      ],
      "metadata": {
        "id": "o8P_MsIuYytG"
      },
      "execution_count": null,
      "outputs": []
    },
    {
      "cell_type": "code",
      "source": [
        "calories ={\n",
        "    \"day1\":567,\n",
        "      \"day2\":67,\n",
        "      \"day3\":9009,\n",
        "      \"day4\":324,\n",
        "}\n",
        "my_series=pd.Series(calories,index=[\"day1\",\"day3\"])\n",
        "print(my_series)\n"
      ],
      "metadata": {
        "id": "qf8JYOS9aIkd"
      },
      "execution_count": null,
      "outputs": []
    },
    {
      "cell_type": "code",
      "source": [
        "calories ={\n",
        "      \"day1\":[567,884,984,567],\n",
        "      \"day2\":[567,884,984,567],\n",
        "      \"day3\":[1,23,4,5],#All arrays must be of the same length\n",
        "      \"day4\":[67,884,984,567]\n",
        "}\n",
        "#my_series=pd.Series(calories)\n",
        "#print(my_series)\n",
        "df=pd.DataFrame(calories)\n",
        "print(df)"
      ],
      "metadata": {
        "id": "LXLYt9mmausX"
      },
      "execution_count": null,
      "outputs": []
    },
    {
      "cell_type": "code",
      "source": [
        "import numpy as np\n",
        "data1=np.random.randint(1,10,5)\n",
        "data2=np.random.randint(11,20,5)\n",
        "data1=pd.Series(data1)\n",
        "data2=pd.Series(data2)\n",
        "data1, data2"
      ],
      "metadata": {
        "id": "8MVtDB4Fc3dm"
      },
      "execution_count": null,
      "outputs": []
    },
    {
      "cell_type": "code",
      "source": [
        "data1.index"
      ],
      "metadata": {
        "id": "lMgMMSUvj42W"
      },
      "execution_count": null,
      "outputs": []
    },
    {
      "cell_type": "code",
      "source": [
        "data2=data2.reindex(data1.index)\n",
        "data2"
      ],
      "metadata": {
        "id": "lWewTnIVkvXI"
      },
      "execution_count": null,
      "outputs": []
    },
    {
      "cell_type": "code",
      "source": [
        "data2[2]"
      ],
      "metadata": {
        "id": "COR7ABhFlxyN"
      },
      "execution_count": null,
      "outputs": []
    },
    {
      "cell_type": "code",
      "source": [
        "data1=data1.append(pd.Series([200,300,400]))\n",
        "data1\n",
        "\n"
      ],
      "metadata": {
        "id": "0au-2H_MmOBM"
      },
      "execution_count": null,
      "outputs": []
    },
    {
      "cell_type": "code",
      "source": [
        "data2=pd.concat([data1,pd.Series([200,300,400])])\n",
        "data2"
      ],
      "metadata": {
        "id": "1NCucxdbuMu1"
      },
      "execution_count": null,
      "outputs": []
    },
    {
      "cell_type": "code",
      "source": [
        "data2=pd.concat([data2,pd.Series([200,300,400])])\n",
        "data2"
      ],
      "metadata": {
        "id": "xQf7a97Fm_DI"
      },
      "execution_count": null,
      "outputs": []
    },
    {
      "cell_type": "code",
      "source": [
        "data2[1]"
      ],
      "metadata": {
        "id": "JpwomWw7vfsf"
      },
      "execution_count": null,
      "outputs": []
    },
    {
      "cell_type": "code",
      "source": [
        "data2[0]"
      ],
      "metadata": {
        "id": "RE5PJoAwvxRo"
      },
      "execution_count": null,
      "outputs": []
    },
    {
      "cell_type": "code",
      "source": [
        "data2=pd.concat([data2,pd.Series([200,300,400])]).reset_index(drop=True)\n",
        "data2"
      ],
      "metadata": {
        "id": "S6dMVoWRwqjG"
      },
      "execution_count": null,
      "outputs": []
    },
    {
      "cell_type": "code",
      "source": [
        "a=pd.Series([11,12,15])\n",
        "data3=pd.concat([data1,a]).reset_index(drop=True)\n",
        "data3"
      ],
      "metadata": {
        "id": "iELe32IHxpJM"
      },
      "execution_count": null,
      "outputs": []
    },
    {
      "cell_type": "markdown",
      "source": [
        "Quering  a series"
      ],
      "metadata": {
        "id": "bS70Sc88yOwP"
      }
    },
    {
      "cell_type": "code",
      "source": [
        "student_classes={\n",
        "    'alice':'chem',\n",
        "    'jack': 'math',\n",
        "    'molly':'physics',\n",
        "    'sam':'history'\n",
        "   }\n",
        "print(student_classes)\n",
        "s=pd.Series(student_classes)\n",
        "print(s)"
      ],
      "metadata": {
        "id": "dccV5V_myMWj"
      },
      "execution_count": null,
      "outputs": []
    },
    {
      "cell_type": "code",
      "source": [
        "s.iloc[2]"
      ],
      "metadata": {
        "id": "g-tzQrVdzn3o"
      },
      "execution_count": null,
      "outputs": []
    },
    {
      "cell_type": "code",
      "source": [
        "s.loc['alice']"
      ],
      "metadata": {
        "id": "YwBCOoVpzvh-"
      },
      "execution_count": null,
      "outputs": []
    },
    {
      "cell_type": "code",
      "source": [
        "s[0]"
      ],
      "metadata": {
        "id": "h55ompZCz5HB"
      },
      "execution_count": null,
      "outputs": []
    },
    {
      "cell_type": "markdown",
      "source": [
        "#` DataFrame`"
      ],
      "metadata": {
        "id": "RmjaW3x3IhFs"
      }
    },
    {
      "cell_type": "markdown",
      "source": [],
      "metadata": {
        "id": "_IoaaNBFySPx"
      }
    },
    {
      "cell_type": "code",
      "source": [
        "import pandas as pd\n",
        "\n",
        "pd.DataFrame({'yes':[50,21],'N0':[131,2]})"
      ],
      "metadata": {
        "id": "4FBynlCgG95r"
      },
      "execution_count": null,
      "outputs": []
    },
    {
      "cell_type": "markdown",
      "source": [
        "Dataframes valued can also be strings"
      ],
      "metadata": {
        "id": "TlEY2MpTHKeU"
      }
    },
    {
      "cell_type": "code",
      "source": [
        "df=pd.DataFrame({'basma':['be kind.','to yourself.'] ,'SYEDA':['pretty good.','pretty good.']})\n",
        "df"
      ],
      "metadata": {
        "id": "sBBqhSltG91h"
      },
      "execution_count": null,
      "outputs": []
    },
    {
      "cell_type": "code",
      "source": [
        "pd.DataFrame({'Basma':['be kind.','to yourself.'] ,'SYEDA':['pretty good.','pretty good.']},\n",
        "  index=['product A','product B'])"
      ],
      "metadata": {
        "id": "VB4Hs5c1G9xC"
      },
      "execution_count": null,
      "outputs": []
    },
    {
      "cell_type": "code",
      "source": [
        "df=pd.DataFrame({'name':['stud1.','stud2.','stud3.'] ,'marks':[11,12,13]})\n",
        "df"
      ],
      "metadata": {
        "id": "h661e5LwG9s2"
      },
      "execution_count": null,
      "outputs": []
    },
    {
      "cell_type": "code",
      "source": [
        "df.shape#no of rows and columns"
      ],
      "metadata": {
        "id": "9sZ3JE0LG9ox"
      },
      "execution_count": null,
      "outputs": []
    },
    {
      "cell_type": "code",
      "source": [
        "row,col=df.shape\n",
        "print(row)\n",
        "print(col)\n",
        "\n",
        "\n"
      ],
      "metadata": {
        "id": "03947luMG9j1"
      },
      "execution_count": null,
      "outputs": []
    },
    {
      "cell_type": "code",
      "source": [
        "data={'one':data3,'two':data2}\n",
        "df1=pd.DataFrame(data)\n",
        "df1"
      ],
      "metadata": {
        "id": "L-UBafkrIIO4"
      },
      "execution_count": null,
      "outputs": []
    },
    {
      "cell_type": "code",
      "source": [
        "df1[:5]"
      ],
      "metadata": {
        "id": "OXYHPq-pIIAj"
      },
      "execution_count": null,
      "outputs": []
    },
    {
      "cell_type": "code",
      "source": [
        "df1['one'][:3]"
      ],
      "metadata": {
        "id": "oXdsMvnCIHzW"
      },
      "execution_count": null,
      "outputs": []
    },
    {
      "cell_type": "code",
      "source": [
        "df1['two'][3 :]"
      ],
      "metadata": {
        "id": "OW_cKLLOIHhz"
      },
      "execution_count": null,
      "outputs": []
    },
    {
      "cell_type": "code",
      "source": [
        "df1.head()"
      ],
      "metadata": {
        "id": "vS9lMn1iI45v"
      },
      "execution_count": null,
      "outputs": []
    },
    {
      "cell_type": "code",
      "source": [
        "df1.head(10)"
      ],
      "metadata": {
        "id": "M4JxMTc9I41N"
      },
      "execution_count": null,
      "outputs": []
    },
    {
      "cell_type": "code",
      "source": [
        "df1.tail()"
      ],
      "metadata": {
        "id": "UBiN8Su6I4c6"
      },
      "execution_count": null,
      "outputs": []
    },
    {
      "cell_type": "code",
      "source": [
        "df1.tail(10)"
      ],
      "metadata": {
        "id": "I0rjAQ9PI4W1"
      },
      "execution_count": null,
      "outputs": []
    },
    {
      "cell_type": "code",
      "source": [
        "df1['three']=0\n",
        "df1"
      ],
      "metadata": {
        "id": "NUa4gAmrI4R2"
      },
      "execution_count": null,
      "outputs": []
    },
    {
      "cell_type": "code",
      "source": [
        "df1.columns()"
      ],
      "metadata": {
        "id": "raqWUr-lJFRh"
      },
      "execution_count": null,
      "outputs": []
    },
    {
      "cell_type": "code",
      "source": [
        "df1['four']=df1['one']+df1['two']\n",
        "df1\n"
      ],
      "metadata": {
        "id": "w71io5hjJFNR"
      },
      "execution_count": null,
      "outputs": []
    },
    {
      "cell_type": "code",
      "source": [
        "#maniplute th df1 and reduce ach valu byu half\n",
        "def half(a):\n",
        "  return a*0.5"
      ],
      "metadata": {
        "id": "seYoWaDIKC7z"
      },
      "execution_count": null,
      "outputs": []
    },
    {
      "cell_type": "code",
      "source": [
        "df1=half(df1)\n",
        "df1"
      ],
      "metadata": {
        "id": "azm0CbtuJFIM"
      },
      "execution_count": null,
      "outputs": []
    },
    {
      "cell_type": "code",
      "source": [
        "df1.iloc[: ,0:2]"
      ],
      "metadata": {
        "id": "kTDJF4oaKkzB"
      },
      "execution_count": null,
      "outputs": []
    },
    {
      "cell_type": "code",
      "source": [
        "df1.mode()"
      ],
      "metadata": {
        "id": "Pn2QZ8_V3-4U"
      },
      "execution_count": null,
      "outputs": []
    },
    {
      "cell_type": "code",
      "source": [
        "df1.median()"
      ],
      "metadata": {
        "id": "-1yAr_wf3-zf"
      },
      "execution_count": null,
      "outputs": []
    },
    {
      "cell_type": "code",
      "source": [
        "df1.mean()"
      ],
      "metadata": {
        "id": "8O_O-AMy3-tT"
      },
      "execution_count": null,
      "outputs": []
    },
    {
      "cell_type": "code",
      "source": [
        "df1.max()"
      ],
      "metadata": {
        "id": "E4EEWgta4GbR"
      },
      "execution_count": null,
      "outputs": []
    },
    {
      "cell_type": "code",
      "source": [
        "df1.min()"
      ],
      "metadata": {
        "id": "lv1k0VIK4T--"
      },
      "execution_count": null,
      "outputs": []
    }
  ]
}