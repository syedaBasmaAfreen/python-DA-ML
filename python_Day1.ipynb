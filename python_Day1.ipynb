{
  "nbformat": 4,
  "nbformat_minor": 0,
  "metadata": {
    "colab": {
      "provenance": [],
      "authorship_tag": "ABX9TyN/tXkgOzaeAHtWPe6n4u7i",
      "include_colab_link": true
    },
    "kernelspec": {
      "name": "python3",
      "display_name": "Python 3"
    },
    "language_info": {
      "name": "python"
    }
  },
  "cells": [
    {
      "cell_type": "markdown",
      "metadata": {
        "id": "view-in-github",
        "colab_type": "text"
      },
      "source": [
        "<a href=\"https://colab.research.google.com/github/syedaBasmaAfreen/python-DA-ML/blob/main/python_Day1.ipynb\" target=\"_parent\"><img src=\"https://colab.research.google.com/assets/colab-badge.svg\" alt=\"Open In Colab\"/></a>"
      ]
    },
    {
      "cell_type": "markdown",
      "source": [
        "                                    \n",
        "#  ⌨ DAY 1\n",
        "\n"
      ],
      "metadata": {
        "id": "cHATWwMExlip"
      }
    },
    {
      "cell_type": "markdown",
      "source": [
        "# *DA & ML with PYTHON*"
      ],
      "metadata": {
        "id": "Gq8kzczscjQq"
      }
    },
    {
      "cell_type": "markdown",
      "source": [
        "\n",
        "*  Python was created by Guido van Rossum & released on feb 20,1991.\n",
        "\n",
        "* Python is easy to learn and code bcz it has simple syntax which helps the developer to write programs with fewer lines.\n",
        "\n",
        "*  It is free open source and runs on  an interpreter system means that code can be executed as soon as it is written.\n",
        "\n",
        "* Python relies on indentation.\n",
        "*  case-sensitive. will not overwrite"
      ],
      "metadata": {
        "id": "0_e5c6UUzJXH"
      }
    },
    {
      "cell_type": "code",
      "source": [
        "print(\"Hello, World!\")"
      ],
      "metadata": {
        "id": "aSik5swaZNUz"
      },
      "execution_count": null,
      "outputs": []
    },
    {
      "cell_type": "markdown",
      "source": [
        "**`Variables`**\n",
        "\n",
        "\n",
        "\n",
        "*  Variables are containers for storing data values.\n",
        "*  variables are created when you assign a value to it\n",
        "*   Python has no command for declaring a variable\n",
        "  \n",
        "\n"
      ],
      "metadata": {
        "id": "c4upkMLVdjDL"
      }
    },
    {
      "cell_type": "markdown",
      "source": [
        "*Declaration of  variable*"
      ],
      "metadata": {
        "id": "E6RBIdWEX0gr"
      }
    },
    {
      "cell_type": "code",
      "source": [
        "a=1\n",
        "#here 'a' is variable name and 10 is value stored in 'a'\n"
      ],
      "metadata": {
        "id": "yaIk8HZ7d2oJ"
      },
      "execution_count": null,
      "outputs": []
    },
    {
      "cell_type": "code",
      "source": [
        "a =10\n",
        "b=20.5\n",
        "c=a+b\n",
        "c        #execution of variable\n",
        "#or\n",
        "print (c)\n",
        "\n"
      ],
      "metadata": {
        "id": "wc_nxrbWe8dC",
        "colab": {
          "base_uri": "https://localhost:8080/"
        },
        "outputId": "5257314d-27c8-4b6a-f29d-296d2635ea7d"
      },
      "execution_count": null,
      "outputs": [
        {
          "output_type": "stream",
          "name": "stdout",
          "text": [
            "30.5\n"
          ]
        }
      ]
    },
    {
      "cell_type": "code",
      "source": [
        "a=1\n",
        "b=2\n",
        "c=3\n",
        "x=a+b\n",
        "y=a+c\n",
        "y\n",
        "x\n",
        "# here comiler gets confuse which Vrbl  TO Execute 1st so to overcome this cfsn we use print(Vrbl Name)fcn\n",
        "\n"
      ],
      "metadata": {
        "colab": {
          "base_uri": "https://localhost:8080/"
        },
        "id": "7xqE6wjmbu-k",
        "outputId": "63f90d0f-6b1b-42ad-cbed-295a68c6c6dc"
      },
      "execution_count": null,
      "outputs": [
        {
          "output_type": "execute_result",
          "data": {
            "text/plain": [
              "3"
            ]
          },
          "metadata": {},
          "execution_count": 36
        }
      ]
    },
    {
      "cell_type": "code",
      "source": [
        "a=10\n",
        "b=20\n",
        "c=30\n",
        "#x=a+b\n",
        "y=a+c\n",
        "z=c+c\n",
        "print(a+b)\n",
        "print(y)\n",
        "print(z)"
      ],
      "metadata": {
        "colab": {
          "base_uri": "https://localhost:8080/"
        },
        "id": "-fB2xKPiePJo",
        "outputId": "88050305-3f42-46b1-be0f-135c02c895d4"
      },
      "execution_count": null,
      "outputs": [
        {
          "output_type": "stream",
          "name": "stdout",
          "text": [
            "30\n",
            "40\n",
            "60\n"
          ]
        }
      ]
    },
    {
      "cell_type": "markdown",
      "source": [
        "*DataTypes*"
      ],
      "metadata": {
        "id": "Tr-UaYUNZiYP"
      }
    },
    {
      "cell_type": "code",
      "source": [
        "a =10\n",
        "b=20.5\n",
        "c=a+b\n",
        "c             #execution of variable\n",
        "#or\n",
        "print (c)\n",
        "print(type(a))     #to know which data type  , we use type()fun\n",
        "print(type(b))\n",
        "print(type(c))\n",
        "\n",
        "                       #specify a type on to a variable\n",
        "ap=int(11)\n",
        "bp=float(20.5)\n",
        "cp=int(ap+bp)\n",
        "print(cp)\n",
        "\n",
        "dp=int(1.0)              #int can b convrt into float and vice versa\n",
        "print(dp)\n",
        "\n",
        "ep=str(1+2.0)\n",
        "print(ep)\n",
        "\n",
        "\n",
        "t=str(9)\n",
        "l = str('k')\n",
        "m = str(10)\n",
        "\n",
        "n = str(m+l+t)           #concatinate/combining all var  \"+\" act as combining\n",
        "print(n)\n",
        "\n",
        "#p= int(l) + int(m)  #k is char & 1 is no. hence str & int cant be combine together\n",
        "#print(p)\n",
        "#w = float(\"k\") str into float\n",
        "\n",
        "\n",
        "e=int(m)+int(t)   # \"+\" act as add operation\n",
        "print(e)\n",
        "\n",
        "\n",
        "\n",
        "\n",
        "\n"
      ],
      "metadata": {
        "colab": {
          "base_uri": "https://localhost:8080/",
          "height": 356
        },
        "id": "r225vD9CeETm",
        "outputId": "0d54b5d3-0fca-4357-e75b-8a496e6c287e"
      },
      "execution_count": null,
      "outputs": [
        {
          "output_type": "stream",
          "name": "stdout",
          "text": [
            "30.5\n",
            "<class 'int'>\n",
            "<class 'float'>\n",
            "<class 'float'>\n",
            "31\n",
            "1\n",
            "3.0\n"
          ]
        },
        {
          "output_type": "error",
          "ename": "TypeError",
          "evalue": "ignored",
          "traceback": [
            "\u001b[0;31m---------------------------------------------------------------------------\u001b[0m",
            "\u001b[0;31mTypeError\u001b[0m                                 Traceback (most recent call last)",
            "\u001b[0;32m<ipython-input-48-55a703c0dbd6>\u001b[0m in \u001b[0;36m<cell line: 28>\u001b[0;34m()\u001b[0m\n\u001b[1;32m     26\u001b[0m \u001b[0mm\u001b[0m \u001b[0;34m=\u001b[0m \u001b[0mstr\u001b[0m\u001b[0;34m(\u001b[0m\u001b[0;36m10\u001b[0m\u001b[0;34m)\u001b[0m\u001b[0;34m\u001b[0m\u001b[0;34m\u001b[0m\u001b[0m\n\u001b[1;32m     27\u001b[0m \u001b[0;34m\u001b[0m\u001b[0m\n\u001b[0;32m---> 28\u001b[0;31m \u001b[0mn\u001b[0m \u001b[0;34m=\u001b[0m \u001b[0mstr\u001b[0m\u001b[0;34m(\u001b[0m\u001b[0mm\u001b[0m\u001b[0;34m+\u001b[0m\u001b[0ml\u001b[0m\u001b[0;34m+\u001b[0m\u001b[0mt\u001b[0m\u001b[0;34m)\u001b[0m\u001b[0;31m#concatinate;combining all var  \"+\" act as combining\u001b[0m\u001b[0;34m\u001b[0m\u001b[0;34m\u001b[0m\u001b[0m\n\u001b[0m\u001b[1;32m     29\u001b[0m \u001b[0mprint\u001b[0m\u001b[0;34m(\u001b[0m\u001b[0mn\u001b[0m\u001b[0;34m)\u001b[0m\u001b[0;34m\u001b[0m\u001b[0;34m\u001b[0m\u001b[0m\n\u001b[1;32m     30\u001b[0m \u001b[0;34m\u001b[0m\u001b[0m\n",
            "\u001b[0;31mTypeError\u001b[0m: can only concatenate str (not \"int\") to str"
          ]
        }
      ]
    },
    {
      "cell_type": "code",
      "source": [
        "\n",
        "\n",
        "a=b=c=\"pink\"                                    #assign mutltiple var to 1 value\n",
        "x, y, z = \"Orange  \", 6, \"Cherry\"            #multiple variables in one line:\n",
        "print(x)\n",
        "print(y)\n",
        "print(z)\n",
        "print(x,y,z)                           #multiple variables, separated by a comma\n",
        "print(x+y+z)                  #use the + operator to output multiple variables\n",
        "\n",
        "# x= 5\n",
        "y = \"John\"              #strng & no will not concat\n",
        "print(x + y)"
      ],
      "metadata": {
        "colab": {
          "base_uri": "https://localhost:8080/",
          "height": 304
        },
        "id": "oigsOfb9n1Tx",
        "outputId": "f799b408-bbc8-4405-c48b-938aea23470d"
      },
      "execution_count": null,
      "outputs": [
        {
          "output_type": "stream",
          "name": "stdout",
          "text": [
            "Orange  \n",
            "6\n",
            "Cherry\n",
            "Orange   6 Cherry\n"
          ]
        },
        {
          "output_type": "error",
          "ename": "TypeError",
          "evalue": "ignored",
          "traceback": [
            "\u001b[0;31m---------------------------------------------------------------------------\u001b[0m",
            "\u001b[0;31mTypeError\u001b[0m                                 Traceback (most recent call last)",
            "\u001b[0;32m<ipython-input-47-f2ee00f5fef5>\u001b[0m in \u001b[0;36m<cell line: 7>\u001b[0;34m()\u001b[0m\n\u001b[1;32m      5\u001b[0m \u001b[0mprint\u001b[0m\u001b[0;34m(\u001b[0m\u001b[0mz\u001b[0m\u001b[0;34m)\u001b[0m\u001b[0;34m\u001b[0m\u001b[0;34m\u001b[0m\u001b[0m\n\u001b[1;32m      6\u001b[0m \u001b[0mprint\u001b[0m\u001b[0;34m(\u001b[0m\u001b[0mx\u001b[0m\u001b[0;34m,\u001b[0m\u001b[0my\u001b[0m\u001b[0;34m,\u001b[0m\u001b[0mz\u001b[0m\u001b[0;34m)\u001b[0m                          \u001b[0;31m#multiple variables, separated by a comma\u001b[0m\u001b[0;34m\u001b[0m\u001b[0;34m\u001b[0m\u001b[0m\n\u001b[0;32m----> 7\u001b[0;31m \u001b[0mprint\u001b[0m\u001b[0;34m(\u001b[0m\u001b[0mx\u001b[0m\u001b[0;34m+\u001b[0m\u001b[0my\u001b[0m\u001b[0;34m+\u001b[0m\u001b[0mz\u001b[0m\u001b[0;34m)\u001b[0m                \u001b[0;31m#use the + operator to output multiple variables\u001b[0m\u001b[0;34m\u001b[0m\u001b[0;34m\u001b[0m\u001b[0m\n\u001b[0m\u001b[1;32m      8\u001b[0m \u001b[0;34m\u001b[0m\u001b[0m\n\u001b[1;32m      9\u001b[0m \u001b[0;31m# x= 5\u001b[0m\u001b[0;34m\u001b[0m\u001b[0;34m\u001b[0m\u001b[0m\n",
            "\u001b[0;31mTypeError\u001b[0m: can only concatenate str (not \"int\") to str"
          ]
        }
      ]
    },
    {
      "cell_type": "markdown",
      "source": [
        "*Global Variables*"
      ],
      "metadata": {
        "id": "qLx2blWmaXsG"
      }
    },
    {
      "cell_type": "code",
      "source": [
        "x = \"basma afreen\"\n",
        "\n",
        "def myfunc():\n",
        "  print(\"Syeda\" + x)\n",
        "\n",
        "myfunc()\n"
      ],
      "metadata": {
        "colab": {
          "base_uri": "https://localhost:8080/"
        },
        "id": "QK3M8bSSaXNt",
        "outputId": "a9483a7b-9883-4575-cf00-a6c77dd3119f"
      },
      "execution_count": null,
      "outputs": [
        {
          "output_type": "stream",
          "name": "stdout",
          "text": [
            "Syedabasma afreen\n"
          ]
        }
      ]
    },
    {
      "cell_type": "markdown",
      "source": [
        "**` Operators`**\n",
        "\n",
        "\n"
      ],
      "metadata": {
        "id": "XO_LGheUgCFw"
      }
    },
    {
      "cell_type": "markdown",
      "source": [
        "▶ *Arithmetic Operator*"
      ],
      "metadata": {
        "id": "WLBvXQBVgxdq"
      }
    },
    {
      "cell_type": "code",
      "source": [
        "\n",
        "h=2\n",
        "i=4\n",
        "Add=h+i\n",
        "Sub=h-i\n",
        "Mul=h*i\n",
        "Sqr=h**i\n",
        "print(Add)\n",
        "print(Sub)\n",
        "print(Mul)\n",
        "print(Sqr)\n",
        "\n"
      ],
      "metadata": {
        "colab": {
          "base_uri": "https://localhost:8080/"
        },
        "id": "u1Ct2scPggAe",
        "outputId": "457357f8-49fd-4907-b8fa-c1eea08233e7"
      },
      "execution_count": null,
      "outputs": [
        {
          "output_type": "stream",
          "name": "stdout",
          "text": [
            "6\n",
            "-2\n",
            "8\n",
            "16\n"
          ]
        }
      ]
    },
    {
      "cell_type": "code",
      "source": [
        "\n",
        "#Division\n",
        "a=10\n",
        "b=2\n",
        "p=a//b              #floor division\n",
        "q=a/b               #quotient division\n",
        "r=a%b               #reminder modules\n",
        "k=a\n",
        "print(p)\n",
        "print(q)\n",
        "print(r)\n"
      ],
      "metadata": {
        "colab": {
          "base_uri": "https://localhost:8080/"
        },
        "id": "3O3LCa3be5DY",
        "outputId": "b535ed05-773a-4416-8a70-2c47c92576fb"
      },
      "execution_count": null,
      "outputs": [
        {
          "output_type": "stream",
          "name": "stdout",
          "text": [
            "5\n",
            "5.0\n",
            "0\n"
          ]
        }
      ]
    },
    {
      "cell_type": "markdown",
      "source": [
        " *Assingnment Operator*\n"
      ],
      "metadata": {
        "id": "VX64yFRnmBXB"
      }
    },
    {
      "cell_type": "code",
      "source": [
        "u=1\n",
        "v=2\n",
        "a=u+1\n",
        "b=v-1\n",
        "c=v*2\n",
        "d=v/v\n",
        "e=v**2\n",
        "f=v%2\n",
        "g=v//2\n",
        "print(a)\n",
        "print(b)\n",
        "print(c)\n",
        "print(d)\n",
        "print(e)\n",
        "print(f)\n",
        "print(g)"
      ],
      "metadata": {
        "colab": {
          "base_uri": "https://localhost:8080/"
        },
        "id": "FZyit288kUCW",
        "outputId": "c1a38ef8-b330-4958-e5a8-7e2d2530ed47"
      },
      "execution_count": null,
      "outputs": [
        {
          "output_type": "stream",
          "name": "stdout",
          "text": [
            "2\n",
            "1\n",
            "4\n",
            "1.0\n",
            "4\n",
            "0\n",
            "1\n"
          ]
        }
      ]
    },
    {
      "cell_type": "markdown",
      "source": [
        "*Comparison Operators*"
      ],
      "metadata": {
        "id": "OZ2uQ3r7kTh4"
      }
    },
    {
      "cell_type": "code",
      "source": [
        "u=1\n",
        "v=2\n",
        "a=u==1\n",
        "b=v!=1\n",
        "c=v>=2\n",
        "d=v<=v\n",
        "\n",
        "print(a)\n",
        "print(b)\n",
        "print(c)\n",
        "print(d)\n"
      ],
      "metadata": {
        "colab": {
          "base_uri": "https://localhost:8080/"
        },
        "id": "D3kJ-d8ogTbO",
        "outputId": "c986ce3b-220d-458f-ae1c-71286dbe019b"
      },
      "execution_count": null,
      "outputs": [
        {
          "output_type": "stream",
          "name": "stdout",
          "text": [
            "True\n",
            "True\n",
            "True\n",
            "True\n"
          ]
        }
      ]
    },
    {
      "cell_type": "markdown",
      "source": [
        "*Logical Operators*"
      ],
      "metadata": {
        "id": "DzZjeCCPi0a0"
      }
    },
    {
      "cell_type": "code",
      "source": [
        "x = 5\n",
        "y= 10\n",
        "z=1\n",
        "print(x > 3 and x< 10)\n",
        "print(y < 5 or  y< 4)\n",
        "print(not(z>=1 and z>0))\n",
        "print(not(z>=1 or z>0))"
      ],
      "metadata": {
        "colab": {
          "base_uri": "https://localhost:8080/"
        },
        "id": "Uy75sY0Tgu_s",
        "outputId": "0a20073e-4b22-4551-a393-f28fd7a393b0"
      },
      "execution_count": null,
      "outputs": [
        {
          "output_type": "stream",
          "name": "stdout",
          "text": [
            "True\n",
            "False\n",
            "False\n",
            "False\n"
          ]
        }
      ]
    },
    {
      "cell_type": "markdown",
      "source": [
        "*Membership Operators*"
      ],
      "metadata": {
        "id": "-hDEzzgViNRO"
      }
    },
    {
      "cell_type": "code",
      "source": [
        "x = [\"apple\", \"banana\"]\n",
        "\n",
        "print(\"banana\" in x)\n",
        "print(\"pineapple\" not in x)"
      ],
      "metadata": {
        "colab": {
          "base_uri": "https://localhost:8080/"
        },
        "id": "by2-3fhdh8SC",
        "outputId": "076bf2a3-ca88-468d-9705-dc4283a35869"
      },
      "execution_count": null,
      "outputs": [
        {
          "output_type": "stream",
          "name": "stdout",
          "text": [
            "True\n",
            "True\n"
          ]
        }
      ]
    }
  ]
}