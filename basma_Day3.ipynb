{
  "nbformat": 4,
  "nbformat_minor": 0,
  "metadata": {
    "colab": {
      "private_outputs": true,
      "provenance": [],
      "authorship_tag": "ABX9TyOB5l3s2uSnnfC/4rpF/8w1",
      "include_colab_link": true
    },
    "kernelspec": {
      "name": "python3",
      "display_name": "Python 3"
    },
    "language_info": {
      "name": "python"
    }
  },
  "cells": [
    {
      "cell_type": "markdown",
      "metadata": {
        "id": "view-in-github",
        "colab_type": "text"
      },
      "source": [
        "<a href=\"https://colab.research.google.com/github/syedaBasmaAfreen/python-DA-ML/blob/main/basma_Day3.ipynb\" target=\"_parent\"><img src=\"https://colab.research.google.com/assets/colab-badge.svg\" alt=\"Open In Colab\"/></a>"
      ]
    },
    {
      "cell_type": "markdown",
      "source": [
        "# ⌨   DAY 3\n"
      ],
      "metadata": {
        "id": "6xIvuMI3Vekz"
      }
    },
    {
      "cell_type": "markdown",
      "source": [
        "# `Sets{}`"
      ],
      "metadata": {
        "id": "i3YEBrCZoFT1"
      }
    },
    {
      "cell_type": "code",
      "execution_count": null,
      "metadata": {
        "id": "zmHQtvkITUee"
      },
      "outputs": [],
      "source": [
        "x={1,\"hey\",True,False,20.89}\n",
        "print(x)                    #unordered\n",
        "                              #cant be sure in which order the items will appear"
      ]
    },
    {
      "cell_type": "code",
      "source": [
        "y={156,\"hey\",True,False,20.89, \"hey\",19}       #remove duplicate items\n",
        "\n",
        "y.remove(True)\n",
        "y.discard(19)\n",
        "\n",
        "print(y)\n",
        "\n",
        "a=y.pop()                             #removes any random item\n",
        "print(a)\n",
        "print(y)\n",
        "\n",
        "y.clear()                        #empty the set\n",
        "print(y)\n",
        "\n",
        "del y\n",
        "print(y)                    #this will raise an error bcz the set no longer exits\n",
        "\n",
        "\n",
        "\n",
        "\n"
      ],
      "metadata": {
        "id": "vn0I2OYrWvuo"
      },
      "execution_count": null,
      "outputs": []
    },
    {
      "cell_type": "markdown",
      "source": [
        "`Keep ONLY Duplicates`"
      ],
      "metadata": {
        "id": "9iRzTauZw9tY"
      }
    },
    {
      "cell_type": "code",
      "source": [
        "p={11,\"hey\",True,False,20.89,10}\n",
        "q=('A',\"apple\", True,7.90,11)\n",
        "\n",
        "p.intersection_update(q)       #keeps the items in both sets\n",
        "print(p)\n",
        "\n",
        "r=p.intersection(q)         #returns the new set that contain items in both sets\n",
        "print(r)\n",
        "\n",
        "p.symmetric_difference_update(q)\n",
        "print(p)\n",
        "\n",
        "\n"
      ],
      "metadata": {
        "id": "BhsuKBLww_tE"
      },
      "execution_count": null,
      "outputs": []
    },
    {
      "cell_type": "code",
      "source": [
        "set1={11,\"hey\",True,False,20.89,10}\n",
        "Set2=('A',\"apple\",46.90)\n",
        "print(type(set1))           #type casting\n",
        "\n",
        "\n",
        "set.add(\"nap\")                 # sets are unchangeble but can Add item\n",
        "print(set1)\n",
        "\n",
        "set.update(Set2)                  #update\n",
        "print(set1)\n",
        "\n",
        "print(len(set1))\n",
        "\n",
        "set3=set1.union(Set2)               #join the sets both UNION &UPDATE CAN BE USE\n",
        "print(set3)\n"
      ],
      "metadata": {
        "id": "VOCmF5urXh9a"
      },
      "execution_count": null,
      "outputs": []
    },
    {
      "cell_type": "markdown",
      "source": [
        "*Access items*\n",
        "1. cant access items refering to an index or key"
      ],
      "metadata": {
        "id": "RbYyuCJIqMya"
      }
    },
    {
      "cell_type": "code",
      "source": [
        "\n",
        "z={1,\"hey\",True,False,20.89}\n",
        "for w in z:\n",
        "  print(w)\n",
        "  print(20 in z)"
      ],
      "metadata": {
        "id": "durgI4Tipwnt"
      },
      "execution_count": null,
      "outputs": []
    },
    {
      "cell_type": "markdown",
      "source": [
        "#`Dict`\n",
        " * Dict are used to store data values in   **{key:value pairs}**\n",
        " * ordered, changeble, duplicates are not allowed"
      ],
      "metadata": {
        "id": "_BBwiiA6Zjue"
      }
    },
    {
      "cell_type": "code",
      "source": [
        "D={                           #create & print dict\n",
        "    \"math\": 35,\n",
        "    \"phy\" : 45,\n",
        "    \"chem\": 55\n",
        "   }\n",
        "print(D)\n",
        "\n",
        "print(D[\"phy\"])                                                 #print phy value\n",
        "\n",
        "X=D[\"chem\"]\n",
        "print(X)                                   # Access dict items chem value\n",
        "\n",
        "c=D.get(\"math\")                            #ACCESS math value\n",
        "print(c)\n",
        "\n",
        "print(D.keys())                      # returns a list of all keys\n",
        "\n",
        "D[\"phy\"]=40                    #change values\n",
        "print(D)\n",
        "\n",
        "D.update({\"phy\": 99})      #Update dict\n",
        "print(D)\n",
        "\n",
        "D[\"colour\"]=\"red\"               #adding items\n",
        "print(D)\n",
        "\n",
        "D.pop(\"chem\")                         # removes the item\n",
        "print(D)\n",
        "\n",
        "D.popitem()                                             #removes the  lastitem\n",
        "print(D)\n",
        "\n",
        "\n",
        "newD=dict(h=5,p=5)  #new dict\n",
        "print(newD)\n"
      ],
      "metadata": {
        "id": "tv821-3oX1lR"
      },
      "execution_count": null,
      "outputs": []
    },
    {
      "cell_type": "markdown",
      "source": [
        "# ` Conditional Statements `"
      ],
      "metadata": {
        "id": "yyK2mc6DebkI"
      }
    },
    {
      "cell_type": "code",
      "source": [
        "a=10\n",
        "b=20\n",
        "if a<b:\n",
        "  print(\"b is greater than a\")"
      ],
      "metadata": {
        "id": "e69U888QeWpL"
      },
      "execution_count": null,
      "outputs": []
    },
    {
      "cell_type": "code",
      "source": [
        "a=10\n",
        "b=20\n",
        "if a==b:\n",
        "  print(\"a is greater than b\")\n",
        "else:\n",
        "  print(\"a is not equal to b\")"
      ],
      "metadata": {
        "id": "KRJrMel96MOZ"
      },
      "execution_count": null,
      "outputs": []
    },
    {
      "cell_type": "code",
      "source": [
        "a=10\n",
        "b=20\n",
        "if a>b:\n",
        "  print(\"a is greater than b\")\n",
        "elif  a<b :\n",
        " print(\"b is greater than a\")"
      ],
      "metadata": {
        "id": "aT2Zv8qffEmD"
      },
      "execution_count": null,
      "outputs": []
    },
    {
      "cell_type": "code",
      "source": [
        "m=input(\"enter the value of a :\")\n",
        "n=int(input(\"enter the value of b :\"))     #type casting into int\n",
        "#print(type(m))\n",
        "if m>n:    #int and strg cant be compared\n",
        "  print(\"a is greater than b\")\n",
        "elif  m<n:\n",
        "  print(\"b is greater than a\")"
      ],
      "metadata": {
        "id": "IhO1BAEefmgB"
      },
      "execution_count": null,
      "outputs": []
    },
    {
      "cell_type": "code",
      "source": [
        "m=input(\"enter the value of a :\")\n",
        "n=input(\"enter the value of b :\")\n",
        "print(type(m))\n",
        "   # print(type(n))\n",
        "if m>n :\n",
        "  print(\"a is greater than b\")\n",
        "elif m<n :\n",
        "  print(\"b is greater than a\")"
      ],
      "metadata": {
        "id": "e8qzQPj-l7rJ"
      },
      "execution_count": null,
      "outputs": []
    },
    {
      "cell_type": "code",
      "source": [
        "#short hand notation\n",
        "# if\n",
        "# if else\n",
        "a=10\n",
        "b=20\n",
        "if a<b  :print(\"b is greater than a\")\n",
        "print(\"=\") if a==b else print(\">\")\n"
      ],
      "metadata": {
        "id": "7Lg--v_qg3bH"
      },
      "execution_count": null,
      "outputs": []
    },
    {
      "cell_type": "code",
      "source": [
        "#and,or ,not keyword\n",
        "a=10\n",
        "b=20\n",
        "c=30\n",
        "if a<b and c>b :\n",
        "   print(\"both conditions are true\")\n",
        "if a<b or c>b:\n",
        "  print(\"either of the conditions are true\")\n",
        "if not a<b:\n",
        "  (\"b is greatr than a\")\n"
      ],
      "metadata": {
        "id": "ijKVnrnthtVo"
      },
      "execution_count": null,
      "outputs": []
    },
    {
      "cell_type": "markdown",
      "source": [
        "# `Loop`"
      ],
      "metadata": {
        "id": "QMt7jmNio_Lm"
      }
    },
    {
      "cell_type": "code",
      "source": [
        "                           # while loop\n",
        "\n",
        "i=1\n",
        "while(i<10):\n",
        "    print(i)\n",
        "    i+=1                    #if we don't  use this it will run an infinite loop\n"
      ],
      "metadata": {
        "id": "T1tznhewo-oa"
      },
      "execution_count": null,
      "outputs": []
    },
    {
      "cell_type": "code",
      "source": [
        "# 2.\n",
        " i=1\n",
        "while(i<10):\n",
        " print(i)\n",
        " if(i==4):\n",
        "  break                            #stop the loop even if  the condition is true\n",
        " i+=1"
      ],
      "metadata": {
        "id": "PB-lKNjepsuE"
      },
      "execution_count": null,
      "outputs": []
    },
    {
      "cell_type": "code",
      "source": [
        "j=1\n",
        "while(j<10):\n",
        "  j+=1                                        #here its incrments the value by 1\n",
        "  if j==4:\n",
        "    continue\n",
        "  print(j)"
      ],
      "metadata": {
        "id": "K5SviBfC9mfP"
      },
      "execution_count": null,
      "outputs": []
    },
    {
      "cell_type": "code",
      "source": [
        "j=1\n",
        "while(j<10):\n",
        "  j+=1\n",
        "  if j==4:\n",
        "    continue\n",
        "  print(j)\n",
        "else:\n",
        "     print(\"hey there\")\n",
        "\n"
      ],
      "metadata": {
        "id": "ydhwzwVGsuzv"
      },
      "execution_count": null,
      "outputs": []
    },
    {
      "cell_type": "code",
      "source": [
        "                #in and not in are memeber ship operators returns boolean values\n",
        "my_list=[\"hey\",12,12.097,True,'c']\n",
        "for x in my_list:     #in can use here\n",
        "   print(x)\n",
        "   print(13 not in my_list)\n",
        "   print(\"hey\" not in my_list)\n",
        "   print('c' in my_list)"
      ],
      "metadata": {
        "id": "9K0vPv-JwXCC"
      },
      "execution_count": null,
      "outputs": []
    },
    {
      "cell_type": "code",
      "source": [
        "                        #range functions\n",
        "k=1\n",
        "for k in range(1,11):\n",
        "  print(k)\n",
        "for k in range(6): # values from 0 to 5\n",
        "  print(k)"
      ],
      "metadata": {
        "id": "AhpdsnsRzUnG"
      },
      "execution_count": null,
      "outputs": []
    },
    {
      "cell_type": "code",
      "source": [
        "l=[\"abs\",20,'h',\"hello\",7.9,True,3]\n",
        "for x in l:\n",
        "\n",
        "   if(x== \"hello\"):      # hello\" is not included bcz print stmt is written below\n",
        "    break\n",
        "   print(x)\n",
        "\n"
      ],
      "metadata": {
        "id": "oDu51nEh0rus"
      },
      "execution_count": null,
      "outputs": []
    },
    {
      "cell_type": "code",
      "source": [
        "l=[\"abs\",20,'h',\"hello\",7.9,True,3]\n",
        "for x in l:\n",
        "  print(x)\n",
        "  if(x== \"hello\"):\n",
        "   break\n",
        "\n"
      ],
      "metadata": {
        "id": "loLpX9dV2dDH"
      },
      "execution_count": null,
      "outputs": []
    }
  ]
}